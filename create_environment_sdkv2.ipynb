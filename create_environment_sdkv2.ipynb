{
 "cells": [
  {
   "cell_type": "code",
   "execution_count": 1,
   "metadata": {},
   "outputs": [
    {
     "data": {
      "text/plain": [
       "True"
      ]
     },
     "execution_count": 1,
     "metadata": {},
     "output_type": "execute_result"
    }
   ],
   "source": [
    "from azure.ai.ml import MLClient\n",
    "from azure.ai.ml.entities import Environment\n",
    "from azure.identity import DefaultAzureCredential\n",
    "from dotenv import load_dotenv\n",
    "\n",
    "# specify the details of your subscription\n",
    "SUBSCRIPTION_ID = \"e5615bfe-b43b-41ce-bccb-b78867c2ce63\"\n",
    "RESOURCE_GROUP = \"rg-dp100-demo-001\"\n",
    "\n",
    "# get a handle to the subscription\n",
    "load_dotenv(\"python.env\")"
   ]
  },
  {
   "cell_type": "code",
   "execution_count": 2,
   "metadata": {},
   "outputs": [],
   "source": [
    "ml_client = MLClient(DefaultAzureCredential(), \n",
    "                     subscription_id=SUBSCRIPTION_ID, \n",
    "                     resource_group_name=RESOURCE_GROUP,\n",
    "                     workspace_name=\"mlw-dp100-demo\")"
   ]
  },
  {
   "cell_type": "markdown",
   "metadata": {},
   "source": [
    "#### Environments - create a new env from a conda spec, using a base image"
   ]
  },
  {
   "cell_type": "markdown",
   "metadata": {},
   "source": [
    "- Base image tags maintained by AzureML can be found in:<br>\n",
    "https://github.com/Azure/AzureML-Containers?tab=readme-ov-file#getdocker <br>\n",
    "- An image tag must be in this path format: `mcr.microsoft.com/azureml/<image_tag>`\n",
    "- The environment will be created by the registered app as \"Service Principal\" (as opposed to \"User Principal\")\n",
    "- As stated in the link above, Note that these base images do not come with Python packages, notably the Azure ML Python SDK, installed. So we have to specify them in the yaml file, including the python version and pip version"
   ]
  },
  {
   "cell_type": "code",
   "execution_count": 3,
   "metadata": {},
   "outputs": [
    {
     "data": {
      "text/plain": [
       "Environment({'intellectual_property': None, 'is_anonymous': False, 'auto_increment_version': False, 'auto_delete_setting': None, 'name': 'testenv-conda-002', 'description': 'Environment created from a Docker image plus Conda environment.', 'tags': {}, 'properties': {'azureml.labels': 'latest'}, 'print_as_yaml': True, 'id': '/subscriptions/e5615bfe-b43b-41ce-bccb-b78867c2ce63/resourceGroups/rg-dp100-demo-001/providers/Microsoft.MachineLearningServices/workspaces/mlw-dp100-demo/environments/testenv-conda-002/versions/1', 'Resource__source_path': None, 'base_path': 'd:\\\\Repositories\\\\GitHub\\\\dp-100', 'creation_context': <azure.ai.ml.entities._system_data.SystemData object at 0x00000220A603BD10>, 'serialize': <msrest.serialization.Serializer object at 0x00000220A6043910>, 'version': '1', 'latest_version': None, 'conda_file': {'channels': ['anaconda', 'conda-forge'], 'dependencies': ['python=3.8', 'pip=21.3.1', 'pandas~=1.3.0', 'scipy~=1.10.0', 'numpy~=1.22.0', {'pip': ['scikit-learn-intelex==2024.0.1', 'wheel~=0.38.1', 'azureml-core==1.54.0.post1', 'azureml-defaults==1.54.0', 'azureml-mlflow==1.54.0.post1', 'azureml-telemetry==1.54.0', 'azureml-automl-common-tools==1.54.0', 'scikit-learn~=1.1.0', 'joblib~=1.2.0', 'cryptography>=41.0.4', 'certifi >= 2023.07.22', 'requests >= 2.31.0', 'azure-ai-ml == 1.12.1']}], 'name': 'testenv-conda'}, 'image': 'mcr.microsoft.com/azureml/openmpi4.1.0-ubuntu22.04', 'build': None, 'inference_config': None, 'os_type': 'Linux', 'arm_type': 'environment_version', 'conda_file_path': None, 'path': None, 'datastore': None, 'upload_hash': None, 'translated_conda_file': '{\\n  \"channels\": [\\n    \"anaconda\",\\n    \"conda-forge\"\\n  ],\\n  \"dependencies\": [\\n    \"python=3.8\",\\n    \"pip=21.3.1\",\\n    \"pandas~=1.3.0\",\\n    \"scipy~=1.10.0\",\\n    \"numpy~=1.22.0\",\\n    {\\n      \"pip\": [\\n        \"scikit-learn-intelex==2024.0.1\",\\n        \"wheel~=0.38.1\",\\n        \"azureml-core==1.54.0.post1\",\\n        \"azureml-defaults==1.54.0\",\\n        \"azureml-mlflow==1.54.0.post1\",\\n        \"azureml-telemetry==1.54.0\",\\n        \"azureml-automl-common-tools==1.54.0\",\\n        \"scikit-learn~=1.1.0\",\\n        \"joblib~=1.2.0\",\\n        \"cryptography>=41.0.4\",\\n        \"certifi >= 2023.07.22\",\\n        \"requests >= 2.31.0\",\\n        \"azure-ai-ml == 1.12.1\"\\n      ]\\n    }\\n  ],\\n  \"name\": \"testenv-conda\"\\n}'})"
      ]
     },
     "execution_count": 3,
     "metadata": {},
     "output_type": "execute_result"
    }
   ],
   "source": [
    "env_docker_conda = Environment(\n",
    "    image=\"mcr.microsoft.com/azureml/openmpi4.1.0-ubuntu22.04\",\n",
    "    conda_file=\"conda_yamls/environment.yaml\",\n",
    "    name=\"testenv-conda-002\",\n",
    "    description=\"Environment created from a Docker image plus Conda environment.\",\n",
    ")\n",
    "ml_client.environments.create_or_update(env_docker_conda)"
   ]
  },
  {
   "cell_type": "code",
   "execution_count": 4,
   "metadata": {},
   "outputs": [
    {
     "name": "stdout",
     "output_type": "stream",
     "text": [
      "[('testenv-conda-002', '1'), ('testenv-conda', '1'), ('testenv', '1'), ('AzureML-AI-Studio-Development', '1'), ('AzureML-ACPT-pytorch-1.13-py38-cuda11.7-gpu', '10'), ('AzureML-ACPT-pytorch-1.12-py38-cuda11.6-gpu', '14'), ('AzureML-ACPT-pytorch-1.12-py39-cuda11.6-gpu', '14'), ('AzureML-ACPT-pytorch-1.11-py38-cuda11.5-gpu', '14'), ('AzureML-ACPT-pytorch-1.11-py38-cuda11.3-gpu', '17'), ('AzureML-responsibleai-0.21-ubuntu20.04-py38-cpu', '7'), ('AzureML-responsibleai-0.20-ubuntu20.04-py38-cpu', '9'), ('AzureML-tensorflow-2.5-ubuntu20.04-py38-cuda11-gpu', '27'), ('AzureML-tensorflow-2.6-ubuntu20.04-py38-cuda11-gpu', '26'), ('AzureML-tensorflow-2.7-ubuntu20.04-py38-cuda11-gpu', '26'), ('AzureML-sklearn-1.0-ubuntu20.04-py38-cpu', '36'), ('AzureML-pytorch-1.10-ubuntu18.04-py38-cuda11-gpu', '36'), ('AzureML-pytorch-1.9-ubuntu18.04-py37-cuda11-gpu', '44'), ('AzureML-pytorch-1.8-ubuntu18.04-py37-cuda11-gpu', '43'), ('AzureML-sklearn-0.24-ubuntu18.04-py37-cpu', '47'), ('AzureML-lightgbm-3.2-ubuntu18.04-py37-cpu', '51'), ('AzureML-pytorch-1.7-ubuntu18.04-py37-cuda11-gpu', '50'), ('AzureML-tensorflow-2.4-ubuntu18.04-py37-cuda11-gpu', '51'), ('AzureML-Triton', '23'), ('AzureML-Designer-Score', '12'), ('AzureML-VowpalWabbit-8.8.0', '40'), ('AzureML-PyTorch-1.3-CPU', '40')]\n"
     ]
    }
   ],
   "source": [
    "# we can verify that the environment has been created\n",
    "envs = ml_client.environments.list()\n",
    "print([(env.name, env.latest_version) for env in envs])"
   ]
  }
 ],
 "metadata": {
  "kernelspec": {
   "display_name": "venv",
   "language": "python",
   "name": "python3"
  },
  "language_info": {
   "codemirror_mode": {
    "name": "ipython",
    "version": 3
   },
   "file_extension": ".py",
   "mimetype": "text/x-python",
   "name": "python",
   "nbconvert_exporter": "python",
   "pygments_lexer": "ipython3",
   "version": "3.11.7"
  }
 },
 "nbformat": 4,
 "nbformat_minor": 2
}
