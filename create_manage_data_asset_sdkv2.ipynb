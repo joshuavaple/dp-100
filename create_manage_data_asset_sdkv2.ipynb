{
 "cells": [
  {
   "cell_type": "code",
   "execution_count": 28,
   "metadata": {},
   "outputs": [],
   "source": [
    "from azure.ai.ml import command, Input, MLClient, UserIdentityConfiguration, ManagedIdentityConfiguration\n",
    "from azure.identity import DefaultAzureCredential\n",
    "from azure.ai.ml.entities import Data\n",
    "from azure.ai.ml.constants import AssetTypes, InputOutputModes\n",
    "from azure.ai.ml.dsl import pipeline\n",
    "from dotenv import load_dotenv\n",
    "import pandas as pd\n",
    "import os\n",
    "\n",
    "# specify the details of your subscription\n",
    "SUBSCRIPTION_ID = \"e5615bfe-b43b-41ce-bccb-b78867c2ce63\"\n",
    "RESOURCE_GROUP = \"rg-dp100-demo-001\"\n",
    "WORKSPACE_NAME = \"mlw-dp100-demo\"\n",
    "DATASTORE_NAME = \"blobdatastore2\"\n",
    "\n",
    "# get a handle to the subscription\n",
    "load_dotenv(\"python.env\")\n",
    "\n",
    "ml_client = MLClient(DefaultAzureCredential(), \n",
    "                     subscription_id=SUBSCRIPTION_ID, \n",
    "                     resource_group_name=RESOURCE_GROUP,\n",
    "                     workspace_name=WORKSPACE_NAME)"
   ]
  },
  {
   "cell_type": "markdown",
   "metadata": {},
   "source": [
    "### 1. URI File Data Asset"
   ]
  },
  {
   "cell_type": "markdown",
   "metadata": {},
   "source": [
    "Supported paths:\n",
    "- Local: `./<path>`\n",
    "- Azure Blob Storage:\n",
    "     `wasbs://<accountname>.blob.core.windows.net/<containername>/<path_to_data>/`\n",
    "    \n",
    "- Azure Data Lake Storage (Gen 2):\n",
    "    `abfss://<file_system>@<account_name>.dfs.core.windows.net/<folder>/<file>`\n",
    "    \n",
    "- Datastore:\n",
    "    `azureml://datastores/<datastore_name>/paths/<folder>/<file>`"
   ]
  },
  {
   "cell_type": "code",
   "execution_count": 2,
   "metadata": {},
   "outputs": [
    {
     "name": "stderr",
     "output_type": "stream",
     "text": [
      "\u001b[32mUploading titanic.csv\u001b[32m (< 1 MB): 100%|##########| 60.3k/60.3k [00:00<00:00, 241kB/s]\n",
      "\u001b[39m\n",
      "\n"
     ]
    },
    {
     "data": {
      "text/plain": [
       "Data({'skip_validation': False, 'mltable_schema_url': None, 'referenced_uris': None, 'type': 'uri_file', 'is_anonymous': False, 'auto_increment_version': False, 'auto_delete_setting': None, 'name': 'titanic_data_asset_from_local', 'description': 'Data asset created from local file', 'tags': {}, 'properties': {}, 'print_as_yaml': True, 'id': '/subscriptions/e5615bfe-b43b-41ce-bccb-b78867c2ce63/resourceGroups/rg-dp100-demo-001/providers/Microsoft.MachineLearningServices/workspaces/mlw-dp100-demo/data/titanic_data_asset_from_local/versions/1', 'Resource__source_path': None, 'base_path': 'd:\\\\Repositories\\\\GitHub\\\\dp-100', 'creation_context': <azure.ai.ml.entities._system_data.SystemData object at 0x0000023895D71590>, 'serialize': <msrest.serialization.Serializer object at 0x0000023895D7DBD0>, 'version': '1', 'latest_version': None, 'path': 'azureml://subscriptions/e5615bfe-b43b-41ce-bccb-b78867c2ce63/resourcegroups/rg-dp100-demo-001/workspaces/mlw-dp100-demo/datastores/workspaceblobstore/paths/LocalUpload/ed2dfe99d464eb8e888516b41b70d735/titanic.csv', 'datastore': None})"
      ]
     },
     "execution_count": 2,
     "metadata": {},
     "output_type": "execute_result"
    }
   ],
   "source": [
    "from azure.ai.ml.entities import Data\n",
    "from azure.ai.ml.constants import AssetTypes\n",
    "\n",
    "\n",
    "# create a data asset from a local file\n",
    "data_asset_local = './data/titanic.csv'\n",
    "\n",
    "my_data = Data(\n",
    "    path=data_asset_local,\n",
    "    type=AssetTypes.URI_FILE,\n",
    "    description=\"Data asset created from local file\",\n",
    "    name=\"titanic_data_asset_from_local\",\n",
    ")\n",
    "\n",
    "ml_client.data.create_or_update(my_data)"
   ]
  },
  {
   "cell_type": "code",
   "execution_count": 18,
   "metadata": {},
   "outputs": [
    {
     "data": {
      "text/plain": [
       "Data({'skip_validation': False, 'mltable_schema_url': None, 'referenced_uris': None, 'type': 'uri_file', 'is_anonymous': False, 'auto_increment_version': False, 'auto_delete_setting': None, 'name': 'titanic_data_asset_from_datastore_sas', 'description': 'Data asset created from datastore', 'tags': {}, 'properties': {}, 'print_as_yaml': True, 'id': '/subscriptions/e5615bfe-b43b-41ce-bccb-b78867c2ce63/resourceGroups/rg-dp100-demo-001/providers/Microsoft.MachineLearningServices/workspaces/mlw-dp100-demo/data/titanic_data_asset_from_datastore_sas/versions/1', 'Resource__source_path': None, 'base_path': 'd:\\\\Repositories\\\\GitHub\\\\dp-100', 'creation_context': <azure.ai.ml.entities._system_data.SystemData object at 0x0000023897453990>, 'serialize': <msrest.serialization.Serializer object at 0x0000023897452110>, 'version': '1', 'latest_version': None, 'path': 'azureml://subscriptions/e5615bfe-b43b-41ce-bccb-b78867c2ce63/resourcegroups/rg-dp100-demo-001/workspaces/mlw-dp100-demo/datastores/blob_titanic_sas/paths/titanic.csv', 'datastore': None})"
      ]
     },
     "execution_count": 18,
     "metadata": {},
     "output_type": "execute_result"
    }
   ],
   "source": [
    "# create a data asset from datastore:\n",
    "# with the datastore authorized via SAS token\n",
    "data_asset_datastore = 'azureml://datastores/blob_titanic_sas/paths/titanic.csv'\n",
    "\n",
    "my_data = Data(\n",
    "    path=data_asset_datastore,\n",
    "    type=AssetTypes.URI_FILE,\n",
    "    description=\"Data asset created from datastore\",\n",
    "    name=\"titanic_data_asset_from_datastore_sas\",\n",
    ")\n",
    "\n",
    "ml_client.data.create_or_update(my_data)"
   ]
  },
  {
   "cell_type": "code",
   "execution_count": 4,
   "metadata": {},
   "outputs": [
    {
     "data": {
      "text/plain": [
       "Data({'skip_validation': False, 'mltable_schema_url': None, 'referenced_uris': None, 'type': 'uri_file', 'is_anonymous': False, 'auto_increment_version': False, 'auto_delete_setting': None, 'name': 'titanic_data_asset_from_storage_account', 'description': 'Data asset created from storage account directly', 'tags': {}, 'properties': {}, 'print_as_yaml': True, 'id': '/subscriptions/e5615bfe-b43b-41ce-bccb-b78867c2ce63/resourceGroups/rg-dp100-demo-001/providers/Microsoft.MachineLearningServices/workspaces/mlw-dp100-demo/data/titanic_data_asset_from_storage_account/versions/3', 'Resource__source_path': None, 'base_path': 'd:\\\\Repositories\\\\GitHub\\\\dp-100', 'creation_context': <azure.ai.ml.entities._system_data.SystemData object at 0x0000020421F24F90>, 'serialize': <msrest.serialization.Serializer object at 0x0000020421FB75D0>, 'version': '3', 'latest_version': None, 'path': 'wasbs://datacontainer@stdp100demo.blob.core.windows.net/titanic.csv', 'datastore': None})"
      ]
     },
     "execution_count": 4,
     "metadata": {},
     "output_type": "execute_result"
    }
   ],
   "source": [
    "# create a data asset from Blob storage directly\n",
    "# this method faces the same issue of not being authorized to access the storage account\n",
    "# seen in both SDK method and UI method.\n",
    "# data_asset_blob = 'wasbs://stdp100demo.blob.core.windows.net/datacontainer/titanic.csv'\n",
    "data_asset_blob = 'wasbs://datacontainer@stdp100demo.blob.core.windows.net/titanic.csv'\n",
    "my_data = Data(\n",
    "    path=data_asset_blob,\n",
    "    type=AssetTypes.URI_FILE,\n",
    "    description=\"Data asset created from storage account directly\",\n",
    "    name=\"titanic_data_asset_from_storage_account\",\n",
    ")\n",
    "\n",
    "ml_client.data.create_or_update(my_data)"
   ]
  },
  {
   "cell_type": "code",
   "execution_count": 8,
   "metadata": {},
   "outputs": [
    {
     "name": "stdout",
     "output_type": "stream",
     "text": [
      "Data asset file URI: azureml://subscriptions/e5615bfe-b43b-41ce-bccb-b78867c2ce63/resourcegroups/rg-dp100-demo-001/workspaces/mlw-dp100-demo/datastores/blob_titanic_sas/paths/titanic.csv\n"
     ]
    },
    {
     "data": {
      "text/html": [
       "<div>\n",
       "<style scoped>\n",
       "    .dataframe tbody tr th:only-of-type {\n",
       "        vertical-align: middle;\n",
       "    }\n",
       "\n",
       "    .dataframe tbody tr th {\n",
       "        vertical-align: top;\n",
       "    }\n",
       "\n",
       "    .dataframe thead th {\n",
       "        text-align: right;\n",
       "    }\n",
       "</style>\n",
       "<table border=\"1\" class=\"dataframe\">\n",
       "  <thead>\n",
       "    <tr style=\"text-align: right;\">\n",
       "      <th></th>\n",
       "      <th>PassengerId</th>\n",
       "      <th>Survived</th>\n",
       "      <th>Pclass</th>\n",
       "      <th>Name</th>\n",
       "      <th>Sex</th>\n",
       "      <th>Age</th>\n",
       "      <th>SibSp</th>\n",
       "      <th>Parch</th>\n",
       "      <th>Ticket</th>\n",
       "      <th>Fare</th>\n",
       "      <th>Cabin</th>\n",
       "      <th>Embarked</th>\n",
       "    </tr>\n",
       "  </thead>\n",
       "  <tbody>\n",
       "    <tr>\n",
       "      <th>0</th>\n",
       "      <td>1</td>\n",
       "      <td>0</td>\n",
       "      <td>3</td>\n",
       "      <td>Braund, Mr. Owen Harris</td>\n",
       "      <td>male</td>\n",
       "      <td>22.0</td>\n",
       "      <td>1</td>\n",
       "      <td>0</td>\n",
       "      <td>A/5 21171</td>\n",
       "      <td>7.2500</td>\n",
       "      <td>NaN</td>\n",
       "      <td>S</td>\n",
       "    </tr>\n",
       "    <tr>\n",
       "      <th>1</th>\n",
       "      <td>2</td>\n",
       "      <td>1</td>\n",
       "      <td>1</td>\n",
       "      <td>Cumings, Mrs. John Bradley (Florence Briggs Th...</td>\n",
       "      <td>female</td>\n",
       "      <td>38.0</td>\n",
       "      <td>1</td>\n",
       "      <td>0</td>\n",
       "      <td>PC 17599</td>\n",
       "      <td>71.2833</td>\n",
       "      <td>C85</td>\n",
       "      <td>C</td>\n",
       "    </tr>\n",
       "    <tr>\n",
       "      <th>2</th>\n",
       "      <td>3</td>\n",
       "      <td>1</td>\n",
       "      <td>3</td>\n",
       "      <td>Heikkinen, Miss. Laina</td>\n",
       "      <td>female</td>\n",
       "      <td>26.0</td>\n",
       "      <td>0</td>\n",
       "      <td>0</td>\n",
       "      <td>STON/O2. 3101282</td>\n",
       "      <td>7.9250</td>\n",
       "      <td>NaN</td>\n",
       "      <td>S</td>\n",
       "    </tr>\n",
       "    <tr>\n",
       "      <th>3</th>\n",
       "      <td>4</td>\n",
       "      <td>1</td>\n",
       "      <td>1</td>\n",
       "      <td>Futrelle, Mrs. Jacques Heath (Lily May Peel)</td>\n",
       "      <td>female</td>\n",
       "      <td>35.0</td>\n",
       "      <td>1</td>\n",
       "      <td>0</td>\n",
       "      <td>113803</td>\n",
       "      <td>53.1000</td>\n",
       "      <td>C123</td>\n",
       "      <td>S</td>\n",
       "    </tr>\n",
       "    <tr>\n",
       "      <th>4</th>\n",
       "      <td>5</td>\n",
       "      <td>0</td>\n",
       "      <td>3</td>\n",
       "      <td>Allen, Mr. William Henry</td>\n",
       "      <td>male</td>\n",
       "      <td>35.0</td>\n",
       "      <td>0</td>\n",
       "      <td>0</td>\n",
       "      <td>373450</td>\n",
       "      <td>8.0500</td>\n",
       "      <td>NaN</td>\n",
       "      <td>S</td>\n",
       "    </tr>\n",
       "  </tbody>\n",
       "</table>\n",
       "</div>"
      ],
      "text/plain": [
       "   PassengerId  Survived  Pclass  \\\n",
       "0            1         0       3   \n",
       "1            2         1       1   \n",
       "2            3         1       3   \n",
       "3            4         1       1   \n",
       "4            5         0       3   \n",
       "\n",
       "                                                Name     Sex   Age  SibSp  \\\n",
       "0                            Braund, Mr. Owen Harris    male  22.0      1   \n",
       "1  Cumings, Mrs. John Bradley (Florence Briggs Th...  female  38.0      1   \n",
       "2                             Heikkinen, Miss. Laina  female  26.0      0   \n",
       "3       Futrelle, Mrs. Jacques Heath (Lily May Peel)  female  35.0      1   \n",
       "4                           Allen, Mr. William Henry    male  35.0      0   \n",
       "\n",
       "   Parch            Ticket     Fare Cabin Embarked  \n",
       "0      0         A/5 21171   7.2500   NaN        S  \n",
       "1      0          PC 17599  71.2833   C85        C  \n",
       "2      0  STON/O2. 3101282   7.9250   NaN        S  \n",
       "3      0            113803  53.1000  C123        S  \n",
       "4      0            373450   8.0500   NaN        S  "
      ]
     },
     "execution_count": 8,
     "metadata": {},
     "output_type": "execute_result"
    }
   ],
   "source": [
    "# then we can read the underlying data from the data asset by using its .path attribute\n",
    "titanic_data = ml_client.data.get(name=\"titanic_data_asset_from_datastore_sas\", version=1)\n",
    "file_path = titanic_data.path\n",
    "print(f\"Data asset file URI: {file_path}\")\n",
    "pd.read_csv(file_path).head()"
   ]
  },
  {
   "cell_type": "markdown",
   "metadata": {},
   "source": [
    "### 2. URI Folder Asset"
   ]
  },
  {
   "cell_type": "code",
   "execution_count": 7,
   "metadata": {},
   "outputs": [
    {
     "data": {
      "text/plain": [
       "Data({'skip_validation': False, 'mltable_schema_url': None, 'referenced_uris': None, 'type': 'uri_folder', 'is_anonymous': False, 'auto_increment_version': False, 'auto_delete_setting': None, 'name': 'titanic_folder_data_asset_from_datastore_sas', 'description': 'Data asset created from datastore', 'tags': {}, 'properties': {}, 'print_as_yaml': True, 'id': '/subscriptions/e5615bfe-b43b-41ce-bccb-b78867c2ce63/resourceGroups/rg-dp100-demo-001/providers/Microsoft.MachineLearningServices/workspaces/mlw-dp100-demo/data/titanic_folder_data_asset_from_datastore_sas/versions/1', 'Resource__source_path': None, 'base_path': 'd:\\\\Repositories\\\\GitHub\\\\dp-100', 'creation_context': <azure.ai.ml.entities._system_data.SystemData object at 0x0000020421F84450>, 'serialize': <msrest.serialization.Serializer object at 0x0000020427998DD0>, 'version': '1', 'latest_version': None, 'path': 'azureml://subscriptions/e5615bfe-b43b-41ce-bccb-b78867c2ce63/resourcegroups/rg-dp100-demo-001/workspaces/mlw-dp100-demo/datastores/blob_titanic_sas/paths/train_test_split/', 'datastore': None})"
      ]
     },
     "execution_count": 7,
     "metadata": {},
     "output_type": "execute_result"
    }
   ],
   "source": [
    "# create a data asset from datastore:\n",
    "# with the datastore authorized via SAS token\n",
    "data_asset_datastore = 'azureml://datastores/blob_titanic_sas/paths/train_test_split/'\n",
    "\n",
    "my_data = Data(\n",
    "    path=data_asset_datastore,\n",
    "    type=AssetTypes.URI_FOLDER,\n",
    "    description=\"Data asset created from datastore\",\n",
    "    name=\"titanic_folder_data_asset_from_datastore_sas\",\n",
    ")\n",
    "\n",
    "ml_client.data.create_or_update(my_data)"
   ]
  },
  {
   "cell_type": "code",
   "execution_count": 32,
   "metadata": {},
   "outputs": [],
   "source": [
    "# after creating the data asset as URI folder, we can get its URI \n",
    "# this is identical to the datastore URI based on which the data asset is created\n",
    "titanic_folder_data = ml_client.data.get(name=\"titanic_folder_data_asset_from_datastore_sas\", version=1)\n",
    "folder_path = titanic_folder_data.path\n",
    "\n",
    "# to get the datastore URI from the AML UI, select the datastore, browse it, and click the ... button, then \"Copy URI\"\n",
    "datastore_uri = 'azureml://subscriptions/e5615bfe-b43b-41ce-bccb-b78867c2ce63/resourcegroups/rg-dp100-demo-001/workspaces/mlw-dp100-demo/datastores/blob_titanic_sas/paths/train_test_split/'\n",
    "folder_path == datastore_uri"
   ]
  },
  {
   "cell_type": "code",
   "execution_count": 36,
   "metadata": {},
   "outputs": [
    {
     "name": "stdout",
     "output_type": "stream",
     "text": [
      "train_test_split/titanic_test.csv\n",
      "<class 'str'>\n",
      "   PassengerId  Survived  Pclass                                 Name     Sex  \\\n",
      "0           10         1       2  Nasser, Mrs. Nicholas (Adele Achem)  female   \n",
      "1           12         1       1             Bonnell, Miss. Elizabeth  female   \n",
      "\n",
      "    Age  SibSp  Parch  Ticket     Fare Cabin Embarked  \n",
      "0  14.0      1      0  237736  30.0708   NaN        C  \n",
      "1  58.0      0      0  113783  26.5500  C103        S  \n",
      "train_test_split/titanic_train.csv\n",
      "<class 'str'>\n",
      "   PassengerId  Survived  Pclass                   Name   Sex  Age  SibSp  \\\n",
      "0          496         0       3  Yousseff, Mr. Gerious  male  NaN      0   \n",
      "1          649         0       3     Willey, Mr. Edward  male  NaN      0   \n",
      "\n",
      "   Parch         Ticket     Fare Cabin Embarked  \n",
      "0      0           2627  14.4583   NaN        C  \n",
      "1      0  S.O./P.P. 751   7.5500   NaN        S  \n"
     ]
    }
   ],
   "source": [
    "# Datastore URIs are implementation of the Filessytem spec (fsspec) protocol.\n",
    "# from the URI of the folder, we can perform folder-like operations on it\n",
    "from azureml.fsspec import AzureMachineLearningFileSystem\n",
    "\n",
    "# instantiate file system using the data asset URI\n",
    "fs = AzureMachineLearningFileSystem(folder_path)\n",
    "\n",
    "fs.ls() # list folders/files in datastore 'datastorename'\n",
    "\n",
    "# we can iterate through the files in the folder and read them into a dataframe:\n",
    "for file in fs.ls():\n",
    "    print(file)\n",
    "    print(type(file))\n",
    "    df = pd.read_csv(fs.open(file))\n",
    "    print(df.head(2))"
   ]
  },
  {
   "cell_type": "code",
   "execution_count": 37,
   "metadata": {},
   "outputs": [
    {
     "name": "stdout",
     "output_type": "stream",
     "text": [
      "train_test_split/titanic_test.csv\n",
      "<class 'str'>\n",
      "   PassengerId  Survived  Pclass                                 Name     Sex  \\\n",
      "0           10         1       2  Nasser, Mrs. Nicholas (Adele Achem)  female   \n",
      "1           12         1       1             Bonnell, Miss. Elizabeth  female   \n",
      "\n",
      "    Age  SibSp  Parch  Ticket     Fare Cabin Embarked  \n",
      "0  14.0      1      0  237736  30.0708   NaN        C  \n",
      "1  58.0      0      0  113783  26.5500  C103        S  \n",
      "train_test_split/titanic_train.csv\n",
      "<class 'str'>\n",
      "   PassengerId  Survived  Pclass                   Name   Sex  Age  SibSp  \\\n",
      "0          496         0       3  Yousseff, Mr. Gerious  male  NaN      0   \n",
      "1          649         0       3     Willey, Mr. Edward  male  NaN      0   \n",
      "\n",
      "   Parch         Ticket     Fare Cabin Embarked  \n",
      "0      0           2627  14.4583   NaN        C  \n",
      "1      0  S.O./P.P. 751   7.5500   NaN        S  \n"
     ]
    }
   ],
   "source": [
    "# we can introduce a logic to only open the .csv files in the folder\n",
    "for file in fs.ls():\n",
    "    if file.endswith('.csv'):\n",
    "        print(file)\n",
    "        print(type(file))\n",
    "        df = pd.read_csv(fs.open(file))\n",
    "        print(df.head(2))"
   ]
  },
  {
   "cell_type": "code",
   "execution_count": 38,
   "metadata": {},
   "outputs": [
    {
     "name": "stdout",
     "output_type": "stream",
     "text": [
      "(891, 12)\n"
     ]
    },
    {
     "data": {
      "text/html": [
       "<div>\n",
       "<style scoped>\n",
       "    .dataframe tbody tr th:only-of-type {\n",
       "        vertical-align: middle;\n",
       "    }\n",
       "\n",
       "    .dataframe tbody tr th {\n",
       "        vertical-align: top;\n",
       "    }\n",
       "\n",
       "    .dataframe thead th {\n",
       "        text-align: right;\n",
       "    }\n",
       "</style>\n",
       "<table border=\"1\" class=\"dataframe\">\n",
       "  <thead>\n",
       "    <tr style=\"text-align: right;\">\n",
       "      <th></th>\n",
       "      <th>PassengerId</th>\n",
       "      <th>Survived</th>\n",
       "      <th>Pclass</th>\n",
       "      <th>Name</th>\n",
       "      <th>Sex</th>\n",
       "      <th>Age</th>\n",
       "      <th>SibSp</th>\n",
       "      <th>Parch</th>\n",
       "      <th>Ticket</th>\n",
       "      <th>Fare</th>\n",
       "      <th>Cabin</th>\n",
       "      <th>Embarked</th>\n",
       "    </tr>\n",
       "  </thead>\n",
       "  <tbody>\n",
       "    <tr>\n",
       "      <th>0</th>\n",
       "      <td>10</td>\n",
       "      <td>True</td>\n",
       "      <td>2</td>\n",
       "      <td>Nasser, Mrs. Nicholas (Adele Achem)</td>\n",
       "      <td>female</td>\n",
       "      <td>14.0</td>\n",
       "      <td>1</td>\n",
       "      <td>0</td>\n",
       "      <td>237736</td>\n",
       "      <td>30.0708</td>\n",
       "      <td>None</td>\n",
       "      <td>C</td>\n",
       "    </tr>\n",
       "    <tr>\n",
       "      <th>1</th>\n",
       "      <td>12</td>\n",
       "      <td>True</td>\n",
       "      <td>1</td>\n",
       "      <td>Bonnell, Miss. Elizabeth</td>\n",
       "      <td>female</td>\n",
       "      <td>58.0</td>\n",
       "      <td>0</td>\n",
       "      <td>0</td>\n",
       "      <td>113783</td>\n",
       "      <td>26.5500</td>\n",
       "      <td>C103</td>\n",
       "      <td>S</td>\n",
       "    </tr>\n",
       "  </tbody>\n",
       "</table>\n",
       "</div>"
      ],
      "text/plain": [
       "   PassengerId  Survived  Pclass                                 Name     Sex  \\\n",
       "0           10      True       2  Nasser, Mrs. Nicholas (Adele Achem)  female   \n",
       "1           12      True       1             Bonnell, Miss. Elizabeth  female   \n",
       "\n",
       "    Age  SibSp  Parch  Ticket     Fare Cabin Embarked  \n",
       "0  14.0      1      0  237736  30.0708  None        C  \n",
       "1  58.0      0      0  113783  26.5500  C103        S  "
      ]
     },
     "execution_count": 38,
     "metadata": {},
     "output_type": "execute_result"
    }
   ],
   "source": [
    "# an alternative way to materialize URI folder into pandas is to use the mltable package\n",
    "import mltable\n",
    "\n",
    "titanic_folder_data = ml_client.data.get(name=\"titanic_folder_data_asset_from_datastore_sas\", version=1)\n",
    "folder_path = titanic_folder_data.path\n",
    "\n",
    "path = {'folder': folder_path}\n",
    "\n",
    "tbl = mltable.from_delimited_files(paths=[path])\n",
    "df = tbl.to_pandas_dataframe()\n",
    "print(df.shape)\n",
    "df.head(2)"
   ]
  },
  {
   "cell_type": "markdown",
   "metadata": {},
   "source": [
    "### MLTable Data Asset"
   ]
  },
  {
   "cell_type": "markdown",
   "metadata": {},
   "source": [
    "- We need to include a MLTable file in the same folder as the data we want to read. The MLTable file includes the path pointing to the data you want to read, and how to read the data.\n",
    "- Otherwise there is a warning \"Unable to access MLTable metadata at path\"\n",
    "- The data asset is still created but cannot be read."
   ]
  },
  {
   "cell_type": "markdown",
   "metadata": {},
   "source": [
    "```bash\n",
    "type: mltable\n",
    "paths:\n",
    "  - pattern: ./*.csv\n",
    "transformations:\n",
    "  - read_delimited:\n",
    "      delimiter: ','\n",
    "      encoding: ascii\n",
    "      header: all_files_same_headers\n",
    "```"
   ]
  },
  {
   "cell_type": "code",
   "execution_count": 39,
   "metadata": {},
   "outputs": [
    {
     "name": "stderr",
     "output_type": "stream",
     "text": [
      "Unable to access MLTable metadata at path azureml://datastores/blob_titanic_sas/paths/titanic.csv\n"
     ]
    },
    {
     "data": {
      "text/plain": [
       "Data({'skip_validation': False, 'mltable_schema_url': None, 'referenced_uris': None, 'type': 'mltable', 'is_anonymous': False, 'auto_increment_version': False, 'auto_delete_setting': None, 'name': 'titanic_mltable_data_asset_from_datastore_sas', 'description': 'MLTable data asset created from datastore', 'tags': {}, 'properties': {}, 'print_as_yaml': True, 'id': '/subscriptions/e5615bfe-b43b-41ce-bccb-b78867c2ce63/resourceGroups/rg-dp100-demo-001/providers/Microsoft.MachineLearningServices/workspaces/mlw-dp100-demo/data/titanic_mltable_data_asset_from_datastore_sas/versions/1', 'Resource__source_path': None, 'base_path': 'd:\\\\Repositories\\\\GitHub\\\\dp-100', 'creation_context': <azure.ai.ml.entities._system_data.SystemData object at 0x0000020401A11A50>, 'serialize': <msrest.serialization.Serializer object at 0x0000020427F98210>, 'version': '1', 'latest_version': None, 'path': 'azureml://subscriptions/e5615bfe-b43b-41ce-bccb-b78867c2ce63/resourcegroups/rg-dp100-demo-001/workspaces/mlw-dp100-demo/datastores/blob_titanic_sas/paths/titanic.csv/', 'datastore': None})"
      ]
     },
     "execution_count": 39,
     "metadata": {},
     "output_type": "execute_result"
    }
   ],
   "source": [
    "data_asset_datastore = 'azureml://datastores/blob_titanic_sas/paths/titanic.csv'\n",
    "\n",
    "my_data = Data(\n",
    "    path=data_asset_datastore,\n",
    "    type=AssetTypes.MLTABLE,\n",
    "    description=\"MLTable data asset created from datastore\",\n",
    "    name=\"titanic_mltable_data_asset_from_datastore_sas\",\n",
    ")\n",
    "\n",
    "ml_client.data.create_or_update(my_data)"
   ]
  }
 ],
 "metadata": {
  "kernelspec": {
   "display_name": "Python 3",
   "language": "python",
   "name": "python3"
  },
  "language_info": {
   "codemirror_mode": {
    "name": "ipython",
    "version": 3
   },
   "file_extension": ".py",
   "mimetype": "text/x-python",
   "name": "python",
   "nbconvert_exporter": "python",
   "pygments_lexer": "ipython3",
   "version": "3.11.7"
  }
 },
 "nbformat": 4,
 "nbformat_minor": 2
}
