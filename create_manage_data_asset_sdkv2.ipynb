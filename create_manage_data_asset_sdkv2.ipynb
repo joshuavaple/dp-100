{
 "cells": [
  {
   "cell_type": "code",
   "execution_count": 1,
   "metadata": {},
   "outputs": [],
   "source": [
    "from azure.ai.ml import command, Input, MLClient, UserIdentityConfiguration, ManagedIdentityConfiguration\n",
    "from azure.identity import DefaultAzureCredential\n",
    "from azure.ai.ml.entities import Data\n",
    "from azure.ai.ml.constants import AssetTypes, InputOutputModes\n",
    "from azure.ai.ml.dsl import pipeline\n",
    "from dotenv import load_dotenv\n",
    "import pandas as pd\n",
    "import os\n",
    "\n",
    "# specify the details of your subscription\n",
    "SUBSCRIPTION_ID = \"e5615bfe-b43b-41ce-bccb-b78867c2ce63\"\n",
    "RESOURCE_GROUP = \"rg-dp100-demo-001\"\n",
    "WORKSPACE_NAME = \"mlw-dp100-demo\"\n",
    "DATASTORE_NAME = \"blobdatastore2\"\n",
    "\n",
    "# get a handle to the subscription\n",
    "load_dotenv(\"python.env\")\n",
    "\n",
    "ml_client = MLClient(DefaultAzureCredential(), \n",
    "                     subscription_id=SUBSCRIPTION_ID, \n",
    "                     resource_group_name=RESOURCE_GROUP,\n",
    "                     workspace_name=WORKSPACE_NAME)"
   ]
  },
  {
   "cell_type": "markdown",
   "metadata": {},
   "source": [
    "### URI File Data Asset"
   ]
  },
  {
   "cell_type": "markdown",
   "metadata": {},
   "source": [
    "Supported paths:\n",
    "- Local: `./<path>`\n",
    "- Azure Blob Storage:\n",
    "     `wasbs://<accountname>.blob.core.windows.net/<containername>/<path_to_data>/`\n",
    "    \n",
    "- Azure Data Lake Storage (Gen 2):\n",
    "    `abfss://<file_system>@<account_name>.dfs.core.windows.net/<folder>/<file>`\n",
    "    \n",
    "- Datastore:\n",
    "    `azureml://datastores/<datastore_name>/paths/<folder>/<file>`"
   ]
  },
  {
   "cell_type": "code",
   "execution_count": 2,
   "metadata": {},
   "outputs": [
    {
     "name": "stderr",
     "output_type": "stream",
     "text": [
      "\u001b[32mUploading titanic.csv\u001b[32m (< 1 MB): 100%|##########| 60.3k/60.3k [00:00<00:00, 241kB/s]\n",
      "\u001b[39m\n",
      "\n"
     ]
    },
    {
     "data": {
      "text/plain": [
       "Data({'skip_validation': False, 'mltable_schema_url': None, 'referenced_uris': None, 'type': 'uri_file', 'is_anonymous': False, 'auto_increment_version': False, 'auto_delete_setting': None, 'name': 'titanic_data_asset_from_local', 'description': 'Data asset created from local file', 'tags': {}, 'properties': {}, 'print_as_yaml': True, 'id': '/subscriptions/e5615bfe-b43b-41ce-bccb-b78867c2ce63/resourceGroups/rg-dp100-demo-001/providers/Microsoft.MachineLearningServices/workspaces/mlw-dp100-demo/data/titanic_data_asset_from_local/versions/1', 'Resource__source_path': None, 'base_path': 'd:\\\\Repositories\\\\GitHub\\\\dp-100', 'creation_context': <azure.ai.ml.entities._system_data.SystemData object at 0x0000023895D71590>, 'serialize': <msrest.serialization.Serializer object at 0x0000023895D7DBD0>, 'version': '1', 'latest_version': None, 'path': 'azureml://subscriptions/e5615bfe-b43b-41ce-bccb-b78867c2ce63/resourcegroups/rg-dp100-demo-001/workspaces/mlw-dp100-demo/datastores/workspaceblobstore/paths/LocalUpload/ed2dfe99d464eb8e888516b41b70d735/titanic.csv', 'datastore': None})"
      ]
     },
     "execution_count": 2,
     "metadata": {},
     "output_type": "execute_result"
    }
   ],
   "source": [
    "from azure.ai.ml.entities import Data\n",
    "from azure.ai.ml.constants import AssetTypes\n",
    "\n",
    "\n",
    "# create a data asset from a local file\n",
    "data_asset_local = './data/titanic.csv'\n",
    "\n",
    "my_data = Data(\n",
    "    path=data_asset_local,\n",
    "    type=AssetTypes.URI_FILE,\n",
    "    description=\"Data asset created from local file\",\n",
    "    name=\"titanic_data_asset_from_local\",\n",
    ")\n",
    "\n",
    "ml_client.data.create_or_update(my_data)"
   ]
  },
  {
   "cell_type": "code",
   "execution_count": 18,
   "metadata": {},
   "outputs": [
    {
     "data": {
      "text/plain": [
       "Data({'skip_validation': False, 'mltable_schema_url': None, 'referenced_uris': None, 'type': 'uri_file', 'is_anonymous': False, 'auto_increment_version': False, 'auto_delete_setting': None, 'name': 'titanic_data_asset_from_datastore_sas', 'description': 'Data asset created from datastore', 'tags': {}, 'properties': {}, 'print_as_yaml': True, 'id': '/subscriptions/e5615bfe-b43b-41ce-bccb-b78867c2ce63/resourceGroups/rg-dp100-demo-001/providers/Microsoft.MachineLearningServices/workspaces/mlw-dp100-demo/data/titanic_data_asset_from_datastore_sas/versions/1', 'Resource__source_path': None, 'base_path': 'd:\\\\Repositories\\\\GitHub\\\\dp-100', 'creation_context': <azure.ai.ml.entities._system_data.SystemData object at 0x0000023897453990>, 'serialize': <msrest.serialization.Serializer object at 0x0000023897452110>, 'version': '1', 'latest_version': None, 'path': 'azureml://subscriptions/e5615bfe-b43b-41ce-bccb-b78867c2ce63/resourcegroups/rg-dp100-demo-001/workspaces/mlw-dp100-demo/datastores/blob_titanic_sas/paths/titanic.csv', 'datastore': None})"
      ]
     },
     "execution_count": 18,
     "metadata": {},
     "output_type": "execute_result"
    }
   ],
   "source": [
    "# create a data asset from datastore:\n",
    "# with the datastore authorized via SAS token\n",
    "data_asset_datastore = 'azureml://datastores/blob_titanic_sas/paths/titanic.csv'\n",
    "\n",
    "my_data = Data(\n",
    "    path=data_asset_datastore,\n",
    "    type=AssetTypes.URI_FILE,\n",
    "    description=\"Data asset created from datastore\",\n",
    "    name=\"titanic_data_asset_from_datastore_sas\",\n",
    ")\n",
    "\n",
    "ml_client.data.create_or_update(my_data)"
   ]
  },
  {
   "cell_type": "markdown",
   "metadata": {},
   "source": []
  },
  {
   "cell_type": "code",
   "execution_count": 21,
   "metadata": {},
   "outputs": [
    {
     "data": {
      "text/plain": [
       "Data({'skip_validation': False, 'mltable_schema_url': None, 'referenced_uris': None, 'type': 'uri_file', 'is_anonymous': False, 'auto_increment_version': False, 'auto_delete_setting': None, 'name': 'titanic_data_asset_from_datastore_identity', 'description': 'Data asset created from datastore', 'tags': {}, 'properties': {}, 'print_as_yaml': True, 'id': '/subscriptions/e5615bfe-b43b-41ce-bccb-b78867c2ce63/resourceGroups/rg-dp100-demo-001/providers/Microsoft.MachineLearningServices/workspaces/mlw-dp100-demo/data/titanic_data_asset_from_datastore_identity/versions/3', 'Resource__source_path': None, 'base_path': 'd:\\\\Repositories\\\\GitHub\\\\dp-100', 'creation_context': <azure.ai.ml.entities._system_data.SystemData object at 0x00000238973265D0>, 'serialize': <msrest.serialization.Serializer object at 0x00000238F4BE1650>, 'version': '3', 'latest_version': None, 'path': 'azureml://subscriptions/e5615bfe-b43b-41ce-bccb-b78867c2ce63/resourcegroups/rg-dp100-demo-001/workspaces/mlw-dp100-demo/datastores/blob_titanic_identity/paths/titanic.csv', 'datastore': None})"
      ]
     },
     "execution_count": 21,
     "metadata": {},
     "output_type": "execute_result"
    }
   ],
   "source": [
    "# with the datastore authorized via managed identity\n",
    "data_asset_datastore = 'azureml://datastores/blob_titanic_identity/paths/titanic.csv'\n",
    "\n",
    "my_data = Data(\n",
    "    path=data_asset_datastore,\n",
    "    type=AssetTypes.URI_FILE,\n",
    "    description=\"Data asset created from datastore\",\n",
    "    name=\"titanic_data_asset_from_datastore_identity\",\n",
    ")\n",
    "\n",
    "ml_client.data.create_or_update(my_data)"
   ]
  },
  {
   "cell_type": "code",
   "execution_count": 14,
   "metadata": {},
   "outputs": [
    {
     "data": {
      "text/plain": [
       "Data({'skip_validation': False, 'mltable_schema_url': None, 'referenced_uris': None, 'type': 'uri_file', 'is_anonymous': False, 'auto_increment_version': False, 'auto_delete_setting': None, 'name': 'titanic_data_asset_from_blob', 'description': 'Data asset created from blob container', 'tags': {}, 'properties': {}, 'print_as_yaml': True, 'id': '/subscriptions/e5615bfe-b43b-41ce-bccb-b78867c2ce63/resourceGroups/rg-dp100-demo-001/providers/Microsoft.MachineLearningServices/workspaces/mlw-dp100-demo/data/titanic_data_asset_from_blob/versions/1', 'Resource__source_path': None, 'base_path': 'd:\\\\Repositories\\\\GitHub\\\\dp-100', 'creation_context': <azure.ai.ml.entities._system_data.SystemData object at 0x0000023897368590>, 'serialize': <msrest.serialization.Serializer object at 0x0000023895DA7210>, 'version': '1', 'latest_version': None, 'path': 'wasbs://stdp100demo.blob.core.windows.net/datacontainer/titanic.csv', 'datastore': None})"
      ]
     },
     "execution_count": 14,
     "metadata": {},
     "output_type": "execute_result"
    }
   ],
   "source": [
    "data_asset_blob = 'wasbs://stdp100demo.blob.core.windows.net/datacontainer/titanic.csv'\n",
    "\n",
    "my_data = Data(\n",
    "    path=data_asset_blob,\n",
    "    type=AssetTypes.URI_FILE,\n",
    "    description=\"Data asset created from blob container\",\n",
    "    name=\"titanic_data_asset_from_blob\",\n",
    ")\n",
    "\n",
    "ml_client.data.create_or_update(my_data)"
   ]
  }
 ],
 "metadata": {
  "kernelspec": {
   "display_name": "Python 3",
   "language": "python",
   "name": "python3"
  },
  "language_info": {
   "codemirror_mode": {
    "name": "ipython",
    "version": 3
   },
   "file_extension": ".py",
   "mimetype": "text/x-python",
   "name": "python",
   "nbconvert_exporter": "python",
   "pygments_lexer": "ipython3",
   "version": "3.11.7"
  }
 },
 "nbformat": 4,
 "nbformat_minor": 2
}
