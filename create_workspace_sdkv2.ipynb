{
 "cells": [
  {
   "cell_type": "code",
   "execution_count": 1,
   "metadata": {},
   "outputs": [],
   "source": [
    "from azure.ai.ml import MLClient\n",
    "from azure.ai.ml.entities import Workspace\n",
    "from azure.identity import DefaultAzureCredential\n",
    "from dotenv import load_dotenv"
   ]
  },
  {
   "cell_type": "markdown",
   "metadata": {},
   "source": [
    "Creating MLClient will not connect to the workspace. The client initialization is lazy, it will wait for the first time it needs to make a call (this will happen in the next code cell)."
   ]
  },
  {
   "cell_type": "code",
   "execution_count": 4,
   "metadata": {},
   "outputs": [],
   "source": [
    "# specify the details of your subscription\n",
    "SUBSCRIPTION_ID = \"e5615bfe-b43b-41ce-bccb-b78867c2ce63\"\n",
    "RESOURCE_GROUP = \"rg-dp100-demo-002\"\n",
    "\n",
    "# get a handle to the subscription\n",
    "load_dotenv(\"python.env\")\n",
    "ml_client = MLClient(DefaultAzureCredential(), \n",
    "                     subscription_id=SUBSCRIPTION_ID, \n",
    "                     resource_group_name=RESOURCE_GROUP)\n",
    "\n",
    "# specify the workspace details\n",
    "ws = Workspace(\n",
    "    name=\"mlw-dp100-demo-by-application\",\n",
    "    location=\"japaneast\",\n",
    "    description=\"workspace created by SDK v2 from local development environment\",\n",
    ")"
   ]
  },
  {
   "cell_type": "code",
   "execution_count": null,
   "metadata": {},
   "outputs": [],
   "source": [
    "# The creation request will only get submitted after the following cell\n",
    "# create when ready:\n",
    "ml_client.workspaces.begin_create(ws)"
   ]
  },
  {
   "cell_type": "code",
   "execution_count": 29,
   "metadata": {},
   "outputs": [
    {
     "name": "stdout",
     "output_type": "stream",
     "text": [
      "japaneast : rg-dp100-demo-002\n",
      "<class 'azure.ai.ml.entities._workspace.workspace.Workspace'>\n"
     ]
    }
   ],
   "source": [
    "# Verify that the handle works correctly.  \n",
    "ws = ml_client.workspaces.get(\"mlw-dp100-demo-by-application\")\n",
    "print(ws.location,\":\", ws.resource_group)\n",
    "print(ws.__class__)"
   ]
  },
  {
   "cell_type": "code",
   "execution_count": 23,
   "metadata": {},
   "outputs": [
    {
     "data": {
      "text/plain": [
       "['mlw-dp100-demo-002',\n",
       " 'mlw-dp100-demo-003',\n",
       " 'mlw-dp100-demo-by-user',\n",
       " 'mlw-dp100-demo-by-application']"
      ]
     },
     "execution_count": 23,
     "metadata": {},
     "output_type": "execute_result"
    }
   ],
   "source": [
    "# we can list all the workspaces under the AML resource above\n",
    "[ws.name for ws in ml_client.workspaces.list()]"
   ]
  },
  {
   "cell_type": "code",
   "execution_count": 18,
   "metadata": {},
   "outputs": [
    {
     "name": "stdout",
     "output_type": "stream",
     "text": [
      "mlw-dp100-demo-by-application\n",
      "<class 'azure.ai.ml._ml_client.MLClient'>\n"
     ]
    }
   ],
   "source": [
    "# get handle on the workspace from parameters\n",
    "ml_client = MLClient(\n",
    "    DefaultAzureCredential(),\n",
    "    subscription_id=SUBSCRIPTION_ID,\n",
    "    resource_group_name=RESOURCE_GROUP,\n",
    "    workspace_name='mlw-dp100-demo-by-application'\n",
    ")\n",
    "print(ml_client.workspace_name)\n",
    "print(ml_client.__class__)"
   ]
  },
  {
   "cell_type": "code",
   "execution_count": 19,
   "metadata": {},
   "outputs": [
    {
     "name": "stderr",
     "output_type": "stream",
     "text": [
      "Found the config file in: D:\\Repositories\\GitHub\\dp-100\\.azureml\\config.json\n"
     ]
    },
    {
     "name": "stdout",
     "output_type": "stream",
     "text": [
      "mlw-dp100-demo-by-application\n",
      "<class 'azure.ai.ml._ml_client.MLClient'>\n"
     ]
    }
   ],
   "source": [
    "# get handle on the workspace from config file\n",
    "# note that if there are more than 1 config file in the .azureml folder, \n",
    "# the file with the name \"config.json\" will be used\n",
    "ml_client = MLClient.from_config(\n",
    "    credential=DefaultAzureCredential(),\n",
    "    path='./azureml/config_mlw-dp100-demo.json'\n",
    ")\n",
    "print(ml_client.workspace_name)\n",
    "print(ml_client.__class__)\n",
    "\n",
    "# get the workspace from the AML handle\n",
    "ws = ml_client.workspaces.get(\"mlw-dp100-demo-by-application\")\n",
    "print(ws.__class__)"
   ]
  }
 ],
 "metadata": {
  "kernelspec": {
   "display_name": "venv",
   "language": "python",
   "name": "python3"
  },
  "language_info": {
   "codemirror_mode": {
    "name": "ipython",
    "version": 3
   },
   "file_extension": ".py",
   "mimetype": "text/x-python",
   "name": "python",
   "nbconvert_exporter": "python",
   "pygments_lexer": "ipython3",
   "version": "3.11.7"
  }
 },
 "nbformat": 4,
 "nbformat_minor": 2
}
