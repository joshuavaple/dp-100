{
 "cells": [
  {
   "cell_type": "code",
   "execution_count": 4,
   "metadata": {},
   "outputs": [],
   "source": [
    "from azure.ai.ml import MLClient\n",
    "from azure.ai.ml.entities import Workspace\n",
    "from azure.identity import DefaultAzureCredential\n",
    "from dotenv import load_dotenv"
   ]
  },
  {
   "cell_type": "markdown",
   "metadata": {},
   "source": [
    "Prerequisite:\n",
    "The registered application that is providing the credentials in the .env file (\"pythonapp\" in this case) must be inside a security group (\"mlsecurity\" in this case) that is instead given the Contributor role (\"Privileged administrator roles\") or equivalent to the resource group, with the action of creating resources within the RG.<br>\n",
    "This is more reasonable, albeit more troublesome to execute, compared to using the SDK v1, which does not ask for any explicit client credentials. <br>\n",
    "This is because in the sdk v1, the logged-in user's credential (phuonglevu3112@gmail.com) was implicitly used to create the resource, which was possible because the user was the owner of the subscription."
   ]
  },
  {
   "cell_type": "code",
   "execution_count": 5,
   "metadata": {},
   "outputs": [
    {
     "name": "stderr",
     "output_type": "stream",
     "text": [
      "The deployment request mlw-dp100-demo-by-application-9069238 was accepted. ARM deployment URI for reference: \n",
      "https://portal.azure.com//#blade/HubsExtension/DeploymentDetailsBlade/overview/id/%2Fsubscriptions%2Fe5615bfe-b43b-41ce-bccb-b78867c2ce63%2FresourceGroups%2Frg-dp100-demo-002%2Fproviders%2FMicrosoft.Resources%2Fdeployments%2Fmlw-dp100-demo-by-application-9069238\n"
     ]
    },
    {
     "data": {
      "text/plain": [
       "<azure.core.polling._poller.LROPoller at 0x224fb8a4d90>"
      ]
     },
     "execution_count": 5,
     "metadata": {},
     "output_type": "execute_result"
    }
   ],
   "source": [
    "# specify the details of your subscription\n",
    "subscription_id = \"e5615bfe-b43b-41ce-bccb-b78867c2ce63\"\n",
    "resource_group = \"rg-dp100-demo-002\"\n",
    "\n",
    "# get a handle to the subscription\n",
    "load_dotenv(\"python.env\")\n",
    "ml_client = MLClient(DefaultAzureCredential(), subscription_id, resource_group)\n",
    "\n",
    "# specify the workspace details\n",
    "ws = Workspace(\n",
    "    name=\"mlw-dp100-demo-by-application\",\n",
    "    location=\"japaneast\",\n",
    "    description=\"workspace created by SDK v2 from local development environment\",\n",
    ")\n",
    "\n",
    "ml_client.workspaces.begin_create(ws)"
   ]
  }
 ],
 "metadata": {
  "kernelspec": {
   "display_name": "venv",
   "language": "python",
   "name": "python3"
  },
  "language_info": {
   "codemirror_mode": {
    "name": "ipython",
    "version": 3
   },
   "file_extension": ".py",
   "mimetype": "text/x-python",
   "name": "python",
   "nbconvert_exporter": "python",
   "pygments_lexer": "ipython3",
   "version": "3.11.7"
  }
 },
 "nbformat": 4,
 "nbformat_minor": 2
}
