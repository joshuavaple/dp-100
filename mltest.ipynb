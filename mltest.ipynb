{
 "cells": [
  {
   "cell_type": "code",
   "execution_count": 2,
   "metadata": {},
   "outputs": [],
   "source": [
    "from azure.ai.ml.entities import AzureBlobDatastore\n",
    "from azure.ai.ml.entities import AccountKeyConfiguration\n",
    "from azure.ai.ml import MLClient \n",
    "from azure.identity import DefaultAzureCredential\n",
    "from dotenv import load_dotenv"
   ]
  },
  {
   "cell_type": "code",
   "execution_count": 4,
   "metadata": {},
   "outputs": [
    {
     "name": "stderr",
     "output_type": "stream",
     "text": [
      "Found the config file in: .\\config.json\n"
     ]
    }
   ],
   "source": [
    "load_dotenv(\"python.env\")\n",
    "credential=DefaultAzureCredential()\n",
    "\n",
    "# init the AML workspace with the credentials\n",
    "ml_client = MLClient.from_config(credential)"
   ]
  },
  {
   "cell_type": "code",
   "execution_count": 7,
   "metadata": {},
   "outputs": [
    {
     "data": {
      "text/plain": [
       "AzureBlobDatastore({'type': <DatastoreType.AZURE_BLOB: 'AzureBlob'>, 'name': 'blobdatastore2', 'description': 'created by Azure SDK', 'tags': {}, 'properties': {}, 'print_as_yaml': True, 'id': '/subscriptions/e5615bfe-b43b-41ce-bccb-b78867c2ce63/resourceGroups/rg-dp100-demo-001/providers/Microsoft.MachineLearningServices/workspaces/mlw-dp100-demo/datastores/blobdatastore2', 'Resource__source_path': None, 'base_path': 'd:\\\\Repositories\\\\GitHub\\\\dp-100', 'creation_context': None, 'serialize': <msrest.serialization.Serializer object at 0x0000025E81266550>, 'credentials': {'type': 'account_key'}, 'container_name': 'datacontainer', 'account_name': 'stdp100demo', 'endpoint': 'core.windows.net', 'protocol': 'https'})"
      ]
     },
     "execution_count": 7,
     "metadata": {},
     "output_type": "execute_result"
    }
   ],
   "source": [
    "blob_datastore = AzureBlobDatastore(\n",
    "    name=\"blobdatastore2\",\n",
    "    description=\"created by Azure SDK\",\n",
    "    account_name=\"stdp100demo\",\n",
    "    container_name=\"datacontainer\",\n",
    "    credentials=AccountKeyConfiguration(\n",
    "        account_key=\"wY5+aN2ZS/smFq7uyKd6bixt0IDtdBgbG3C9XhYT56Bj5vm9/bFBMdyAO1imoqhTnjid6elfVX9Y+ASt7G42FA==\"\n",
    "    )\n",
    ")\n",
    "ml_client.create_or_update(blob_datastore)"
   ]
  }
 ],
 "metadata": {
  "kernelspec": {
   "display_name": "venv",
   "language": "python",
   "name": "python3"
  },
  "language_info": {
   "codemirror_mode": {
    "name": "ipython",
    "version": 3
   },
   "file_extension": ".py",
   "mimetype": "text/x-python",
   "name": "python",
   "nbconvert_exporter": "python",
   "pygments_lexer": "ipython3",
   "version": "3.11.7"
  }
 },
 "nbformat": 4,
 "nbformat_minor": 2
}
