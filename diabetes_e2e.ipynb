{
 "cells": [
  {
   "cell_type": "code",
   "execution_count": 1,
   "metadata": {},
   "outputs": [],
   "source": [
    "from azure.ai.ml import command, Input, MLClient\n",
    "from azure.identity import DefaultAzureCredential\n",
    "from azure.ai.ml.entities import Data\n",
    "from azure.ai.ml.constants import AssetTypes, InputOutputModes\n",
    "from azure.ai.ml.dsl import pipeline\n",
    "from dotenv import load_dotenv\n",
    "import pandas as pd\n",
    "import os\n",
    "\n",
    "# specify the details of the workspace and assets created in the setup notebook\n",
    "SUBSCRIPTION_ID = \"e5615bfe-b43b-41ce-bccb-b78867c2ce63\"\n",
    "RESOURCE_GROUP = \"rg-dp100-demo-001\"\n",
    "WORKSPACE_NAME = \"mlw-dp100-demo\"\n",
    "DATASTORE_NAME = \"diabtesblobdatastore\"\n",
    "STORAGE_ACCOUNT_NAME = \"stdp100demo\"\n",
    "CONTAINER_NAME = \"diabetesdatacontainer\"\n",
    "STORAGE_ACC_SAS_TOKEN = os.getenv(\"STORAGE_ACC_SAS_TOKEN\")\n",
    "DATASTORE_NAME = \"blob_diabetes_datastore_sas\"\n",
    "MLTABLE_DATA_ASSET_NAME=\"mltable_diabetes_data_asset\"\n",
    "COMPUTE_CLUSTER = \"vmcluster-ml-dev\"\n",
    "# get a handle to the subscription\n",
    "load_dotenv(\"python.env\")\n",
    "\n",
    "ml_client = MLClient(DefaultAzureCredential(), \n",
    "                     subscription_id=SUBSCRIPTION_ID, \n",
    "                     resource_group_name=RESOURCE_GROUP,\n",
    "                     workspace_name=WORKSPACE_NAME)"
   ]
  },
  {
   "cell_type": "code",
   "execution_count": 2,
   "metadata": {},
   "outputs": [],
   "source": [
    "# to ensure we are using the latest version of the data:\n",
    "data_asset_tuple = [(asset.name, asset.latest_version) for asset in ml_client.data.list() if asset.name == MLTABLE_DATA_ASSET_NAME][0]\n",
    "data_asset = ml_client.data.get(name=data_asset_tuple[0], version=data_asset_tuple[1])\n",
    "# data_asset.path"
   ]
  },
  {
   "cell_type": "markdown",
   "metadata": {},
   "source": [
    "### 1. Using AutoML"
   ]
  },
  {
   "cell_type": "markdown",
   "metadata": {},
   "source": [
    "- Important reference: https://learn.microsoft.com/en-us/azure/machine-learning/how-to-configure-auto-train?view=azureml-api-2&tabs=python\n",
    "- In order to provide training data to AutoML in SDK v2 you need to upload it into the cloud through an MLTable.\n",
    "- Requirements for loading data into an MLTable:\n",
    "    - Data must be in tabular form.\n",
    "    - The value to predict, target column, must be in the data."
   ]
  },
  {
   "cell_type": "code",
   "execution_count": 3,
   "metadata": {},
   "outputs": [
    {
     "data": {
      "text/plain": [
       "'azureml:mltable_diabetes_data_asset:1'"
      ]
     },
     "execution_count": 3,
     "metadata": {},
     "output_type": "execute_result"
    }
   ],
   "source": [
    "# once we get the data asset, we need to create a valid Input object to pass to the automl job\n",
    "# the Input object needs 2 key pieces of information: the type and the path\n",
    "# the syntax for path is \"azureml:<data_asset_name>:<data_asset_version>\"\n",
    "# the syntax for type is \"AssetTypes.<type>\" where type is one of the following: URI_FILE, URI_FOLDER, MLTABLE\n",
    "input_path = f\"azureml:{data_asset.name}:{data_asset.version}\"\n",
    "input_path"
   ]
  },
  {
   "cell_type": "code",
   "execution_count": 4,
   "metadata": {},
   "outputs": [],
   "source": [
    "my_training_data_input = Input(type=AssetTypes.MLTABLE, # only MLTABLE is supported for automl\n",
    "                               path=input_path)"
   ]
  },
  {
   "cell_type": "code",
   "execution_count": 5,
   "metadata": {},
   "outputs": [],
   "source": [
    "from azure.ai.ml import automl\n",
    "\n",
    "# configure the classification job\n",
    "classification_job = automl.classification(\n",
    "    compute=COMPUTE_CLUSTER,\n",
    "    experiment_name=\"auto-ml-diabetes-classification\",\n",
    "    training_data=my_training_data_input,\n",
    "    target_column_name=\"Outcome\",\n",
    "    primary_metric=\"accuracy\",\n",
    "    n_cross_validations=5,\n",
    "    enable_model_explainability=True\n",
    ")\n",
    "\n",
    "classification_job.set_limits(\n",
    "    timeout_minutes=60, \n",
    "    trial_timeout_minutes=20, \n",
    "    max_trials=5,\n",
    "    enable_early_termination=True,\n",
    ")"
   ]
  },
  {
   "cell_type": "code",
   "execution_count": 6,
   "metadata": {},
   "outputs": [],
   "source": [
    "# submit the AutoML job\n",
    "returned_job = ml_client.jobs.create_or_update(\n",
    "    classification_job\n",
    ") "
   ]
  },
  {
   "cell_type": "code",
   "execution_count": 7,
   "metadata": {},
   "outputs": [
    {
     "name": "stdout",
     "output_type": "stream",
     "text": [
      "Monitor your job at https://ml.azure.com/runs/wheat_leather_b703wm8yjl?wsid=/subscriptions/e5615bfe-b43b-41ce-bccb-b78867c2ce63/resourcegroups/rg-dp100-demo-001/workspaces/mlw-dp100-demo&tid=3c2288b7-c4ac-4ad8-a4f3-32a569108be3\n"
     ]
    }
   ],
   "source": [
    "# You can monitor AutoML job runs in the Azure Machine Learning studio. \n",
    "# To get a direct link to the AutoML job by running the following code:\n",
    "aml_url = returned_job.studio_url\n",
    "print(\"Monitor your job at\", aml_url)"
   ]
  },
  {
   "cell_type": "code",
   "execution_count": null,
   "metadata": {},
   "outputs": [],
   "source": []
  },
  {
   "cell_type": "markdown",
   "metadata": {},
   "source": [
    "### 2. Repeat with the MLTable asset where `colocated=False`"
   ]
  },
  {
   "cell_type": "code",
   "execution_count": 10,
   "metadata": {},
   "outputs": [
    {
     "name": "stdout",
     "output_type": "stream",
     "text": [
      "azureml:mltable_diabetes_data_asset2:1\n",
      "Monitor your job at https://ml.azure.com/runs/sad_horse_mx7y6pxzx6?wsid=/subscriptions/e5615bfe-b43b-41ce-bccb-b78867c2ce63/resourcegroups/rg-dp100-demo-001/workspaces/mlw-dp100-demo&tid=3c2288b7-c4ac-4ad8-a4f3-32a569108be3\n"
     ]
    }
   ],
   "source": [
    "# configure the data input\n",
    "data_asset_tuple = [(asset.name, asset.latest_version) for asset in ml_client.data.list() if asset.name == \"mltable_diabetes_data_asset2\"][0]\n",
    "data_asset = ml_client.data.get(name=data_asset_tuple[0], version=data_asset_tuple[1])\n",
    "input_path = f\"azureml:{data_asset.name}:{data_asset.version}\"\n",
    "print(input_path)\n",
    "my_training_data_input = Input(type=AssetTypes.MLTABLE, # only MLTABLE is supported for automl\n",
    "                               path=input_path)\n",
    "\n",
    "# configure the classification job\n",
    "classification_job = automl.classification(\n",
    "    compute=COMPUTE_CLUSTER,\n",
    "    experiment_name=\"auto-ml-diabetes-classification\",\n",
    "    training_data=my_training_data_input,\n",
    "    target_column_name=\"Outcome\",\n",
    "    primary_metric=\"accuracy\",\n",
    "    n_cross_validations=5,\n",
    "    enable_model_explainability=True\n",
    ")\n",
    "\n",
    "classification_job.set_limits(\n",
    "    timeout_minutes=60, \n",
    "    trial_timeout_minutes=20, \n",
    "    max_trials=5,\n",
    "    enable_early_termination=True,\n",
    ")\n",
    "\n",
    "# submit the AutoML job\n",
    "returned_job = ml_client.jobs.create_or_update(\n",
    "    classification_job\n",
    ") \n",
    "aml_url = returned_job.studio_url\n",
    "print(\"Monitor your job at\", aml_url)"
   ]
  },
  {
   "cell_type": "markdown",
   "metadata": {},
   "source": [
    "### 3. Repeat with MLTable asset where `colocated=False` + compute instance instead of cluster"
   ]
  },
  {
   "cell_type": "markdown",
   "metadata": {},
   "source": [
    "- This will throw an error \"User starting the run is not an owner or assigned user to the Compute Instance\".\n",
    "- This is because we are sending the jobs as a Service Principal. If the job is sent from the AML workspace, or from VSCode connected to the workspace, (under the logged-in user's credential), this will be fine."
   ]
  },
  {
   "cell_type": "code",
   "execution_count": 11,
   "metadata": {},
   "outputs": [
    {
     "name": "stdout",
     "output_type": "stream",
     "text": [
      "azureml:mltable_diabetes_data_asset2:1\n",
      "Monitor your job at https://ml.azure.com/runs/bright_picture_cpln9xc7h2?wsid=/subscriptions/e5615bfe-b43b-41ce-bccb-b78867c2ce63/resourcegroups/rg-dp100-demo-001/workspaces/mlw-dp100-demo&tid=3c2288b7-c4ac-4ad8-a4f3-32a569108be3\n"
     ]
    }
   ],
   "source": [
    "# configure the data input\n",
    "data_asset_tuple = [(asset.name, asset.latest_version) for asset in ml_client.data.list() if asset.name == \"mltable_diabetes_data_asset2\"][0]\n",
    "data_asset = ml_client.data.get(name=data_asset_tuple[0], version=data_asset_tuple[1])\n",
    "input_path = f\"azureml:{data_asset.name}:{data_asset.version}\"\n",
    "print(input_path)\n",
    "my_training_data_input = Input(type=AssetTypes.MLTABLE, # only MLTABLE is supported for automl\n",
    "                               path=input_path)\n",
    "\n",
    "# configure the classification job\n",
    "classification_job = automl.classification(\n",
    "    compute=\"vm-ml-dev\",\n",
    "    experiment_name=\"auto-ml-diabetes-classification\",\n",
    "    training_data=my_training_data_input,\n",
    "    target_column_name=\"Outcome\",\n",
    "    primary_metric=\"accuracy\",\n",
    "    n_cross_validations=5,\n",
    "    enable_model_explainability=True\n",
    ")\n",
    "\n",
    "classification_job.set_limits(\n",
    "    timeout_minutes=60, \n",
    "    trial_timeout_minutes=20, \n",
    "    max_trials=5,\n",
    "    enable_early_termination=True,\n",
    ")\n",
    "\n",
    "# submit the AutoML job\n",
    "returned_job = ml_client.jobs.create_or_update(\n",
    "    classification_job\n",
    ") \n",
    "aml_url = returned_job.studio_url\n",
    "print(\"Monitor your job at\", aml_url)"
   ]
  },
  {
   "cell_type": "markdown",
   "metadata": {},
   "source": [
    "### 3. Repeat with additional config to allow certain models only"
   ]
  },
  {
   "cell_type": "code",
   "execution_count": 12,
   "metadata": {},
   "outputs": [
    {
     "name": "stdout",
     "output_type": "stream",
     "text": [
      "azureml:mltable_diabetes_data_asset2:1\n",
      "Monitor your job at https://ml.azure.com/runs/silver_clock_yhft57nzyq?wsid=/subscriptions/e5615bfe-b43b-41ce-bccb-b78867c2ce63/resourcegroups/rg-dp100-demo-001/workspaces/mlw-dp100-demo&tid=3c2288b7-c4ac-4ad8-a4f3-32a569108be3\n"
     ]
    }
   ],
   "source": [
    "# configure the data input\n",
    "data_asset_tuple = [(asset.name, asset.latest_version) for asset in ml_client.data.list() if asset.name == \"mltable_diabetes_data_asset2\"][0]\n",
    "data_asset = ml_client.data.get(name=data_asset_tuple[0], version=data_asset_tuple[1])\n",
    "input_path = f\"azureml:{data_asset.name}:{data_asset.version}\"\n",
    "print(input_path)\n",
    "my_training_data_input = Input(type=AssetTypes.MLTABLE, # only MLTABLE is supported for automl\n",
    "                               path=input_path)\n",
    "\n",
    "# configure the classification job\n",
    "classification_job = automl.classification(\n",
    "    compute=COMPUTE_CLUSTER,\n",
    "    experiment_name=\"auto-ml-diabetes-classification\",\n",
    "    training_data=my_training_data_input,\n",
    "    target_column_name=\"Outcome\",\n",
    "    primary_metric=\"accuracy\",\n",
    "    n_cross_validations=5,\n",
    "    enable_model_explainability=True,\n",
    ")\n",
    "\n",
    "classification_job.set_limits(\n",
    "    timeout_minutes=60, \n",
    "    trial_timeout_minutes=20, \n",
    "    max_trials=5,\n",
    "    enable_early_termination=True,\n",
    ")\n",
    "\n",
    "# Training properties are optional\n",
    "classification_job.set_training(\n",
    "    allowed_training_algorithms=[\"SVM\", \"MultinomialNaiveBayes\", \"LogisticRegression\", \"LightGBM\", \"XGBoostClassifier\"], \n",
    "    enable_onnx_compatible_models=True,\n",
    "    enable_stack_ensemble=True,\n",
    "    enable_vote_ensemble=True,\n",
    ")\n",
    "\n",
    "# submit the AutoML job\n",
    "returned_job = ml_client.jobs.create_or_update(\n",
    "    classification_job\n",
    ") \n",
    "aml_url = returned_job.studio_url\n",
    "print(\"Monitor your job at\", aml_url)"
   ]
  }
 ],
 "metadata": {
  "kernelspec": {
   "display_name": "venv",
   "language": "python",
   "name": "python3"
  },
  "language_info": {
   "codemirror_mode": {
    "name": "ipython",
    "version": 3
   },
   "file_extension": ".py",
   "mimetype": "text/x-python",
   "name": "python",
   "nbconvert_exporter": "python",
   "pygments_lexer": "ipython3",
   "version": "3.11.7"
  }
 },
 "nbformat": 4,
 "nbformat_minor": 2
}
