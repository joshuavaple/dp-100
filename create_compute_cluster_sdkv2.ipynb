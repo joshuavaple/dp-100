{
 "cells": [
  {
   "cell_type": "code",
   "execution_count": 1,
   "metadata": {},
   "outputs": [],
   "source": [
    "from azure.ai.ml import MLClient\n",
    "from azure.identity import DefaultAzureCredential\n",
    "from dotenv import load_dotenv"
   ]
  },
  {
   "cell_type": "code",
   "execution_count": 23,
   "metadata": {},
   "outputs": [],
   "source": [
    "# specify the details of your subscription\n",
    "SUBSCRIPTION_ID = \"e5615bfe-b43b-41ce-bccb-b78867c2ce63\"\n",
    "RESOURCE_GROUP = \"rg-dp100-demo-001\"\n",
    "WORKSPACE = 'mlw-dp100-demo'\n",
    "\n",
    "# get a handle to the subscription and pass the authentication details\n",
    "load_dotenv(\"python.env\")\n",
    "ml_client = MLClient(credential=DefaultAzureCredential(), \n",
    "                     subscription_id=SUBSCRIPTION_ID, \n",
    "                     resource_group_name=RESOURCE_GROUP,\n",
    "                     workspace_name=WORKSPACE) # note that the kwarg for workspace is not clear, so use positional"
   ]
  },
  {
   "cell_type": "code",
   "execution_count": 24,
   "metadata": {},
   "outputs": [
    {
     "data": {
      "text/plain": [
       "<azure.core.polling._poller.LROPoller at 0x22a9271d690>"
      ]
     },
     "execution_count": 24,
     "metadata": {},
     "output_type": "execute_result"
    }
   ],
   "source": [
    "from azure.ai.ml.entities import AmlCompute\n",
    "\n",
    "cluster_basic = AmlCompute(\n",
    "    name=\"vmcluster-ml-dev-002\",\n",
    "    type=\"amlcompute\",\n",
    "    size=\"STANDARD_D2_v3\",\n",
    "    location=\"japaneast\",\n",
    "    min_instances=0,\n",
    "    max_instances=4,\n",
    "    idle_time_before_scale_down=120\n",
    ")\n",
    "ml_client.begin_create_or_update(cluster_basic)"
   ]
  },
  {
   "cell_type": "code",
   "execution_count": 34,
   "metadata": {},
   "outputs": [
    {
     "name": "stdout",
     "output_type": "stream",
     "text": [
      "[('vm-ml-dev', 'Succeeded'), ('vmcluster-ml-dev', 'Succeeded'), ('vmcluster-ml-dev-002', 'Succeeded')]\n"
     ]
    },
    {
     "data": {
      "text/plain": [
       "'Succeeded'"
      ]
     },
     "execution_count": 34,
     "metadata": {},
     "output_type": "execute_result"
    }
   ],
   "source": [
    "# we can list the compute clusters created:\n",
    "# note that as compute targets belong to a specific workspace,\n",
    "# we need to init the MLClient with the workspace name\n",
    "# else the ValueError: No value for given attribute will be thrown\n",
    "print([(compute.name, compute.provisioning_state) for compute in ml_client.compute.list()])\n",
    "\n",
    "# we can get a specific compute cluster by name:\n",
    "cluster = ml_client.compute.get(\"vmcluster-ml-dev-002\")\n",
    "cluster.provisioning_state"
   ]
  },
  {
   "cell_type": "code",
   "execution_count": 32,
   "metadata": {},
   "outputs": [
    {
     "name": "stdout",
     "output_type": "stream",
     "text": [
      "Cluster not found, creating it.\n"
     ]
    }
   ],
   "source": [
    "# use try/except to create the compute cluster if it doesn't exist\n",
    "from azure.core.exceptions import ResourceNotFoundError\n",
    "# import sleep to wait for the cluster to be created\n",
    "from time import sleep\n",
    "\n",
    "cluster_name = \"vmcluster-ml-dev-003\"\n",
    "cluster_config = AmlCompute(\n",
    "    name=cluster_name,\n",
    "    type=\"amlcompute\",\n",
    "    size=\"STANDARD_D2_v3\",\n",
    "    location=\"japaneast\",\n",
    "    min_instances=0,\n",
    "    max_instances=4,\n",
    "    idle_time_before_scale_down=120\n",
    ")\n",
    "try:\n",
    "    cluster = ml_client.compute.get(cluster_name)\n",
    "    print(\"Cluster already exists, using it.\")\n",
    "except ResourceNotFoundError:\n",
    "    print(\"Cluster not found, creating it.\")\n",
    "    ml_client.begin_create_or_update(cluster_config)\n"
   ]
  }
 ],
 "metadata": {
  "kernelspec": {
   "display_name": "Python 3",
   "language": "python",
   "name": "python3"
  },
  "language_info": {
   "codemirror_mode": {
    "name": "ipython",
    "version": 3
   },
   "file_extension": ".py",
   "mimetype": "text/x-python",
   "name": "python",
   "nbconvert_exporter": "python",
   "pygments_lexer": "ipython3",
   "version": "3.11.7"
  }
 },
 "nbformat": 4,
 "nbformat_minor": 2
}
