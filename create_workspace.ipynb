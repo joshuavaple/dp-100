{
 "cells": [
  {
   "cell_type": "code",
   "execution_count": 1,
   "metadata": {},
   "outputs": [],
   "source": [
    "from azureml.core import Workspace"
   ]
  },
  {
   "cell_type": "code",
   "execution_count": 3,
   "metadata": {},
   "outputs": [
    {
     "name": "stdout",
     "output_type": "stream",
     "text": [
      "Deploying StorageAccount with name mlwdp100storage5078d5ed3.\n",
      "Deploying KeyVault with name mlwdp100keyvault5ab363ce.\n",
      "Deploying Workspace with name mlw-dp100-demo-002.\n",
      "Deploying AppInsights with name mlwdp100insights45767405.\n",
      "Deployed AppInsights with name mlwdp100insights45767405. Took 59.43 seconds.\n",
      "Deployed Workspace with name mlw-dp100-demo-002. Took 35.89 seconds.\n"
     ]
    }
   ],
   "source": [
    "ws=Workspace.create(\n",
    "    subscription_id=\"e5615bfe-b43b-41ce-bccb-b78867c2ce63\",\n",
    "    resource_group=\"rg-dp100-demo-002\",\n",
    "    name=\"mlw-dp100-demo-002\",\n",
    "    create_resource_group=False,\n",
    "    location=\"japaneast\"\n",
    ")\n",
    "ws.write_config(path=\".azureml\", file_name=\"config.json\")"
   ]
  }
 ],
 "metadata": {
  "kernelspec": {
   "display_name": "Python 3",
   "language": "python",
   "name": "python3"
  },
  "language_info": {
   "codemirror_mode": {
    "name": "ipython",
    "version": 3
   },
   "file_extension": ".py",
   "mimetype": "text/x-python",
   "name": "python",
   "nbconvert_exporter": "python",
   "pygments_lexer": "ipython3",
   "version": "3.11.7"
  }
 },
 "nbformat": 4,
 "nbformat_minor": 2
}
