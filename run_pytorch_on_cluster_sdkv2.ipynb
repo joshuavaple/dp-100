{
 "cells": [
  {
   "cell_type": "code",
   "execution_count": 3,
   "metadata": {},
   "outputs": [
    {
     "data": {
      "text/plain": [
       "True"
      ]
     },
     "execution_count": 3,
     "metadata": {},
     "output_type": "execute_result"
    }
   ],
   "source": [
    "from azure.ai.ml import MLClient, command\n",
    "from azure.ai.ml.entities import Environment\n",
    "from azure.identity import DefaultAzureCredential\n",
    "from dotenv import load_dotenv\n",
    "\n",
    "# specify the details of your subscription\n",
    "SUBSCRIPTION_ID = \"e5615bfe-b43b-41ce-bccb-b78867c2ce63\"\n",
    "RESOURCE_GROUP = \"rg-dp100-demo-001\"\n",
    "\n",
    "# get a handle to the subscription\n",
    "load_dotenv(\"python.env\")"
   ]
  },
  {
   "cell_type": "code",
   "execution_count": 4,
   "metadata": {},
   "outputs": [],
   "source": [
    "# get the handle to the workspace\n",
    "ml_client = MLClient(DefaultAzureCredential(), \n",
    "                     subscription_id=SUBSCRIPTION_ID, \n",
    "                     resource_group_name=RESOURCE_GROUP,\n",
    "                     workspace_name=\"mlw-dp100-demo\")"
   ]
  },
  {
   "cell_type": "code",
   "execution_count": 5,
   "metadata": {},
   "outputs": [
    {
     "data": {
      "text/plain": [
       "Environment({'intellectual_property': None, 'is_anonymous': False, 'auto_increment_version': False, 'auto_delete_setting': None, 'name': 'pytorch-env', 'description': 'Environment created from a Docker image plus Conda environment.', 'tags': {}, 'properties': {'azureml.labels': 'latest'}, 'print_as_yaml': True, 'id': '/subscriptions/e5615bfe-b43b-41ce-bccb-b78867c2ce63/resourceGroups/rg-dp100-demo-001/providers/Microsoft.MachineLearningServices/workspaces/mlw-dp100-demo/environments/pytorch-env/versions/1', 'Resource__source_path': None, 'base_path': 'd:\\\\Repositories\\\\GitHub\\\\dp-100', 'creation_context': <azure.ai.ml.entities._system_data.SystemData object at 0x000002B2A12B4A10>, 'serialize': <msrest.serialization.Serializer object at 0x000002B2A1320B10>, 'version': '1', 'latest_version': None, 'conda_file': {'channels': ['pytorch', 'defaults'], 'dependencies': ['python=3.6.2', 'pytorch', 'torchvision'], 'name': 'pytorch-env'}, 'image': 'mcr.microsoft.com/azureml/openmpi4.1.0-ubuntu22.04', 'build': None, 'inference_config': None, 'os_type': 'Linux', 'arm_type': 'environment_version', 'conda_file_path': None, 'path': None, 'datastore': None, 'upload_hash': None, 'translated_conda_file': '{\\n  \"channels\": [\\n    \"pytorch\",\\n    \"defaults\"\\n  ],\\n  \"dependencies\": [\\n    \"python=3.6.2\",\\n    \"pytorch\",\\n    \"torchvision\"\\n  ],\\n  \"name\": \"pytorch-env\"\\n}'})"
      ]
     },
     "execution_count": 5,
     "metadata": {},
     "output_type": "execute_result"
    }
   ],
   "source": [
    "# create a new environment using the base image and conda file\n",
    "pytorch_env = Environment(\n",
    "    image=\"mcr.microsoft.com/azureml/openmpi4.1.0-ubuntu22.04\",\n",
    "    conda_file=\"conda_yamls/pytorch-env.yaml\",\n",
    "    name=\"pytorch-env\",\n",
    "    description=\"Environment created from a Docker image plus Conda environment.\",\n",
    ")\n",
    "ml_client.environments.create_or_update(pytorch_env)"
   ]
  },
  {
   "cell_type": "code",
   "execution_count": 6,
   "metadata": {},
   "outputs": [
    {
     "name": "stderr",
     "output_type": "stream",
     "text": [
      "Class AutoDeleteSettingSchema: This is an experimental class, and may change at any time. Please see https://aka.ms/azuremlexperimental for more information.\n",
      "Class AutoDeleteConditionSchema: This is an experimental class, and may change at any time. Please see https://aka.ms/azuremlexperimental for more information.\n",
      "Class BaseAutoDeleteSettingSchema: This is an experimental class, and may change at any time. Please see https://aka.ms/azuremlexperimental for more information.\n",
      "Class IntellectualPropertySchema: This is an experimental class, and may change at any time. Please see https://aka.ms/azuremlexperimental for more information.\n",
      "Class ProtectionLevelSchema: This is an experimental class, and may change at any time. Please see https://aka.ms/azuremlexperimental for more information.\n",
      "Class BaseIntellectualPropertySchema: This is an experimental class, and may change at any time. Please see https://aka.ms/azuremlexperimental for more information.\n",
      "Warning: the provided asset name 'pytorch-env' will not be used for anonymous registration\n",
      "Warning: the provided asset name 'pytorch-env' will not be used for anonymous registration\n",
      "\u001b[32mUploading src (0.0 MBs): 100%|##########| 3281/3281 [00:00<00:00, 5442.24it/s]\n",
      "\u001b[39m\n",
      "\n"
     ]
    },
    {
     "data": {
      "text/html": [
       "<table style=\"width:100%\"><tr><th>Experiment</th><th>Name</th><th>Type</th><th>Status</th><th>Details Page</th></tr><tr><td>dp-100</td><td>frank_shelf_7rhxf8xyp2</td><td>command</td><td>Starting</td><td><a href=\"https://ml.azure.com/runs/frank_shelf_7rhxf8xyp2?wsid=/subscriptions/e5615bfe-b43b-41ce-bccb-b78867c2ce63/resourcegroups/rg-dp100-demo-001/workspaces/mlw-dp100-demo&amp;tid=3c2288b7-c4ac-4ad8-a4f3-32a569108be3\" target=\"_blank\" rel=\"noopener\">Link to Azure Machine Learning studio</a></td></tr></table>"
      ],
      "text/plain": [
       "Command({'parameters': {}, 'init': False, 'name': 'frank_shelf_7rhxf8xyp2', 'type': 'command', 'status': 'Starting', 'log_files': None, 'description': None, 'tags': {}, 'properties': {'mlflow.source.git.repoURL': 'https://github.com/joshuavaple/dp-100.git', 'mlflow.source.git.branch': 'main', 'mlflow.source.git.commit': 'cd83467379f27532d26f04014d6445782c81a8bb', 'azureml.git.dirty': 'True', '_azureml.ComputeTargetType': 'amlctrain', '_azureml.ClusterName': 'vmcluster-ml-dev-002', 'ContentSnapshotId': 'c9da9ae1-4636-47d6-afd8-5464af937f5d'}, 'print_as_yaml': True, 'id': '/subscriptions/e5615bfe-b43b-41ce-bccb-b78867c2ce63/resourceGroups/rg-dp100-demo-001/providers/Microsoft.MachineLearningServices/workspaces/mlw-dp100-demo/jobs/frank_shelf_7rhxf8xyp2', 'Resource__source_path': None, 'base_path': 'd:\\\\Repositories\\\\GitHub\\\\dp-100', 'creation_context': <azure.ai.ml.entities._system_data.SystemData object at 0x000002B2A164EF10>, 'serialize': <msrest.serialization.Serializer object at 0x000002B2A133F5D0>, 'allowed_keys': {}, 'key_restriction': False, 'logger': <Logger attr_dict (WARNING)>, 'display_name': 'frank_shelf_7rhxf8xyp2', 'experiment_name': 'dp-100', 'compute': 'vmcluster-ml-dev-002', 'services': {'Tracking': {'endpoint': 'azureml://japaneast.api.azureml.ms/mlflow/v1.0/subscriptions/e5615bfe-b43b-41ce-bccb-b78867c2ce63/resourceGroups/rg-dp100-demo-001/providers/Microsoft.MachineLearningServices/workspaces/mlw-dp100-demo?', 'type': 'Tracking'}, 'Studio': {'endpoint': 'https://ml.azure.com/runs/frank_shelf_7rhxf8xyp2?wsid=/subscriptions/e5615bfe-b43b-41ce-bccb-b78867c2ce63/resourcegroups/rg-dp100-demo-001/workspaces/mlw-dp100-demo&tid=3c2288b7-c4ac-4ad8-a4f3-32a569108be3', 'type': 'Studio'}}, 'comment': None, 'job_inputs': {}, 'job_outputs': {'default': {'type': 'uri_folder', 'path': 'azureml://datastores/workspaceartifactstore/ExperimentRun/dcid.frank_shelf_7rhxf8xyp2', 'mode': 'rw_mount'}}, 'inputs': {}, 'outputs': {'default': <azure.ai.ml.entities._job.pipeline._io.base.NodeOutput object at 0x000002B2A133FC50>}, 'component': CommandComponent({'intellectual_property': None, 'auto_increment_version': True, 'source': 'REMOTE.WORKSPACE.JOB', 'is_anonymous': False, 'auto_delete_setting': None, 'name': 'frank_shelf_7rhxf8xyp2', 'description': None, 'tags': {}, 'properties': {}, 'print_as_yaml': True, 'id': None, 'Resource__source_path': None, 'base_path': 'd:\\\\Repositories\\\\GitHub\\\\dp-100', 'creation_context': <azure.ai.ml.entities._system_data.SystemData object at 0x000002B2A164EF10>, 'serialize': <msrest.serialization.Serializer object at 0x000002B2A16EBCD0>, 'command': 'python train.py', 'code': '/subscriptions/e5615bfe-b43b-41ce-bccb-b78867c2ce63/resourceGroups/rg-dp100-demo-001/providers/Microsoft.MachineLearningServices/workspaces/mlw-dp100-demo/codes/8a746445-f417-4311-a0ff-232186774f1f/versions/1', 'environment_variables': {}, 'environment': '/subscriptions/e5615bfe-b43b-41ce-bccb-b78867c2ce63/resourceGroups/rg-dp100-demo-001/providers/Microsoft.MachineLearningServices/workspaces/mlw-dp100-demo/environments/pytorch-env/versions/1', 'distribution': None, 'resources': None, 'queue_settings': None, 'version': None, 'latest_version': None, 'schema': None, 'type': 'command', 'display_name': 'frank_shelf_7rhxf8xyp2', 'is_deterministic': True, 'inputs': {}, 'outputs': {'default': {'type': 'uri_folder', 'path': 'azureml://datastores/workspaceartifactstore/ExperimentRun/dcid.frank_shelf_7rhxf8xyp2', 'mode': 'rw_mount'}}, 'yaml_str': None, 'other_parameter': {'status': 'Starting', 'parameters': {}}, 'additional_includes': []}), 'referenced_control_flow_node_instance_id': None, 'kwargs': {'services': {'Tracking': {'endpoint': 'azureml://japaneast.api.azureml.ms/mlflow/v1.0/subscriptions/e5615bfe-b43b-41ce-bccb-b78867c2ce63/resourceGroups/rg-dp100-demo-001/providers/Microsoft.MachineLearningServices/workspaces/mlw-dp100-demo?', 'type': 'Tracking'}, 'Studio': {'endpoint': 'https://ml.azure.com/runs/frank_shelf_7rhxf8xyp2?wsid=/subscriptions/e5615bfe-b43b-41ce-bccb-b78867c2ce63/resourcegroups/rg-dp100-demo-001/workspaces/mlw-dp100-demo&tid=3c2288b7-c4ac-4ad8-a4f3-32a569108be3', 'type': 'Studio'}}, 'status': 'Starting', 'creation_context': <azure.ai.ml.entities._system_data.SystemData object at 0x000002B2A164EF10>}, 'instance_id': '77b76d35-a4a4-4470-9ce3-01645424296a', 'source': 'BUILDER', 'validate_required_input_not_provided': True, 'limits': None, 'identity': None, 'distribution': None, 'environment_variables': {}, 'environment': 'pytorch-env:1', 'resources': {'instance_count': 1, 'shm_size': '2g'}, 'queue_settings': None, 'swept': False})"
      ]
     },
     "execution_count": 6,
     "metadata": {},
     "output_type": "execute_result"
    }
   ],
   "source": [
    "# configure the job and submit it\n",
    "command_job = command(\n",
    "    code=\"./src\", \n",
    "    command=\"python train.py\",\n",
    "    environment=pytorch_env,\n",
    "    compute=\"vmcluster-ml-dev-002\",\n",
    ")\n",
    "\n",
    "returned_job = ml_client.jobs.create_or_update(command_job)\n",
    "returned_job"
   ]
  }
 ],
 "metadata": {
  "kernelspec": {
   "display_name": "venv",
   "language": "python",
   "name": "python3"
  },
  "language_info": {
   "codemirror_mode": {
    "name": "ipython",
    "version": 3
   },
   "file_extension": ".py",
   "mimetype": "text/x-python",
   "name": "python",
   "nbconvert_exporter": "python",
   "pygments_lexer": "ipython3",
   "version": "3.11.7"
  }
 },
 "nbformat": 4,
 "nbformat_minor": 2
}
