{
 "cells": [
  {
   "cell_type": "code",
   "execution_count": 1,
   "metadata": {},
   "outputs": [],
   "source": [
    "from azure.ai.ml import command, Input, MLClient\n",
    "from azure.identity import DefaultAzureCredential\n",
    "from azure.ai.ml.entities import Data\n",
    "from azure.ai.ml.constants import AssetTypes, InputOutputModes\n",
    "from azure.ai.ml.dsl import pipeline\n",
    "from dotenv import load_dotenv\n",
    "import pandas as pd\n",
    "import os\n",
    "\n",
    "# specify the details of the workspace and assets created in the setup notebook\n",
    "SUBSCRIPTION_ID = \"e5615bfe-b43b-41ce-bccb-b78867c2ce63\"\n",
    "RESOURCE_GROUP = \"rg-dp100-demo-001\"\n",
    "WORKSPACE_NAME = \"mlw-dp100-demo\"\n",
    "DATASTORE_NAME = \"diabtesblobdatastore\"\n",
    "STORAGE_ACCOUNT_NAME = \"stdp100demo\"\n",
    "CONTAINER_NAME = \"diabetesdatacontainer\"\n",
    "STORAGE_ACC_SAS_TOKEN = os.getenv(\"STORAGE_ACC_SAS_TOKEN\")\n",
    "DATASTORE_NAME = \"blob_diabetes_datastore_sas\"\n",
    "MLTABLE_DATA_ASSET_NAME=\"mltable_diabetes_data_asset\"\n",
    "URIFILE_DATA_ASSET_NAME=\"urifile_diabetes_data_asset\"\n",
    "COMPUTE_CLUSTER = \"vmcluster-ml-dev\"\n",
    "# get a handle to the subscription\n",
    "load_dotenv(\"../python.env\")\n",
    "\n",
    "ml_client = MLClient(DefaultAzureCredential(), \n",
    "                     subscription_id=SUBSCRIPTION_ID, \n",
    "                     resource_group_name=RESOURCE_GROUP,\n",
    "                     workspace_name=WORKSPACE_NAME)"
   ]
  },
  {
   "cell_type": "code",
   "execution_count": 2,
   "metadata": {},
   "outputs": [
    {
     "data": {
      "text/plain": [
       "'azureml://subscriptions/e5615bfe-b43b-41ce-bccb-b78867c2ce63/resourcegroups/rg-dp100-demo-001/workspaces/mlw-dp100-demo/datastores/blob_diabetes_datastore_sas/paths/diabetes_mltable/'"
      ]
     },
     "execution_count": 2,
     "metadata": {},
     "output_type": "execute_result"
    }
   ],
   "source": [
    "# to ensure we are using the latest version of the data:\n",
    "data_asset_tuple = [(asset.name, asset.latest_version) for asset in ml_client.data.list() if asset.name == MLTABLE_DATA_ASSET_NAME][0]\n",
    "data_asset = ml_client.data.get(name=data_asset_tuple[0], version=data_asset_tuple[1])\n",
    "data_asset.path"
   ]
  },
  {
   "cell_type": "markdown",
   "metadata": {},
   "source": [
    "## I. Using AutoML"
   ]
  },
  {
   "cell_type": "markdown",
   "metadata": {},
   "source": [
    "### 1. With the MLTable asset where `colocated=True`"
   ]
  },
  {
   "cell_type": "markdown",
   "metadata": {},
   "source": [
    "- Important reference: https://learn.microsoft.com/en-us/azure/machine-learning/how-to-configure-auto-train?view=azureml-api-2&tabs=python\n",
    "- In order to provide training data to AutoML in SDK v2 you need to upload it into the cloud through an MLTable.\n",
    "- Requirements for loading data into an MLTable:\n",
    "    - Data must be in tabular form.\n",
    "    - The value to predict, target column, must be in the data."
   ]
  },
  {
   "cell_type": "code",
   "execution_count": 3,
   "metadata": {},
   "outputs": [
    {
     "data": {
      "text/plain": [
       "'azureml:mltable_diabetes_data_asset:1'"
      ]
     },
     "execution_count": 3,
     "metadata": {},
     "output_type": "execute_result"
    }
   ],
   "source": [
    "# once we get the data asset, we need to create a valid Input object to pass to the automl job\n",
    "# the Input object needs 2 key pieces of information: the type and the path\n",
    "# the syntax for path is \"azureml:<data_asset_name>:<data_asset_version>\"\n",
    "# the syntax for type is \"AssetTypes.<type>\" where type is one of the following: URI_FILE, URI_FOLDER, MLTABLE\n",
    "input_path = f\"azureml:{data_asset.name}:{data_asset.version}\"\n",
    "input_path"
   ]
  },
  {
   "cell_type": "code",
   "execution_count": 4,
   "metadata": {},
   "outputs": [],
   "source": [
    "my_training_data_input = Input(type=AssetTypes.MLTABLE, # only MLTABLE is supported for automl\n",
    "                               path=input_path)"
   ]
  },
  {
   "cell_type": "code",
   "execution_count": 5,
   "metadata": {},
   "outputs": [],
   "source": [
    "from azure.ai.ml import automl\n",
    "\n",
    "# configure the classification job\n",
    "classification_job = automl.classification(\n",
    "    compute=COMPUTE_CLUSTER,\n",
    "    experiment_name=\"auto-ml-diabetes-classification\",\n",
    "    training_data=my_training_data_input,\n",
    "    target_column_name=\"Outcome\",\n",
    "    primary_metric=\"accuracy\",\n",
    "    n_cross_validations=5,\n",
    "    enable_model_explainability=True\n",
    ")\n",
    "\n",
    "classification_job.set_limits(\n",
    "    timeout_minutes=60, \n",
    "    trial_timeout_minutes=20, \n",
    "    max_trials=5,\n",
    "    enable_early_termination=True,\n",
    ")"
   ]
  },
  {
   "cell_type": "code",
   "execution_count": 6,
   "metadata": {},
   "outputs": [],
   "source": [
    "# submit the AutoML job\n",
    "returned_job = ml_client.jobs.create_or_update(\n",
    "    classification_job\n",
    ") "
   ]
  },
  {
   "cell_type": "code",
   "execution_count": 7,
   "metadata": {},
   "outputs": [
    {
     "name": "stdout",
     "output_type": "stream",
     "text": [
      "Monitor your job at https://ml.azure.com/runs/wheat_leather_b703wm8yjl?wsid=/subscriptions/e5615bfe-b43b-41ce-bccb-b78867c2ce63/resourcegroups/rg-dp100-demo-001/workspaces/mlw-dp100-demo&tid=3c2288b7-c4ac-4ad8-a4f3-32a569108be3\n"
     ]
    }
   ],
   "source": [
    "# You can monitor AutoML job runs in the Azure Machine Learning studio. \n",
    "# To get a direct link to the AutoML job by running the following code:\n",
    "aml_url = returned_job.studio_url\n",
    "print(\"Monitor your job at\", aml_url)"
   ]
  },
  {
   "cell_type": "code",
   "execution_count": null,
   "metadata": {},
   "outputs": [],
   "source": []
  },
  {
   "cell_type": "markdown",
   "metadata": {},
   "source": [
    "### 2. Repeat with the MLTable asset where `colocated=False`"
   ]
  },
  {
   "cell_type": "code",
   "execution_count": 10,
   "metadata": {},
   "outputs": [
    {
     "name": "stdout",
     "output_type": "stream",
     "text": [
      "azureml:mltable_diabetes_data_asset2:1\n",
      "Monitor your job at https://ml.azure.com/runs/sad_horse_mx7y6pxzx6?wsid=/subscriptions/e5615bfe-b43b-41ce-bccb-b78867c2ce63/resourcegroups/rg-dp100-demo-001/workspaces/mlw-dp100-demo&tid=3c2288b7-c4ac-4ad8-a4f3-32a569108be3\n"
     ]
    }
   ],
   "source": [
    "# configure the data input\n",
    "data_asset_tuple = [(asset.name, asset.latest_version) for asset in ml_client.data.list() if asset.name == \"mltable_diabetes_data_asset2\"][0]\n",
    "data_asset = ml_client.data.get(name=data_asset_tuple[0], version=data_asset_tuple[1])\n",
    "input_path = f\"azureml:{data_asset.name}:{data_asset.version}\"\n",
    "print(input_path)\n",
    "my_training_data_input = Input(type=AssetTypes.MLTABLE, # only MLTABLE is supported for automl\n",
    "                               path=input_path)\n",
    "\n",
    "# configure the classification job\n",
    "classification_job = automl.classification(\n",
    "    compute=COMPUTE_CLUSTER,\n",
    "    experiment_name=\"auto-ml-diabetes-classification\",\n",
    "    training_data=my_training_data_input,\n",
    "    target_column_name=\"Outcome\",\n",
    "    primary_metric=\"accuracy\",\n",
    "    n_cross_validations=5,\n",
    "    enable_model_explainability=True\n",
    ")\n",
    "\n",
    "classification_job.set_limits(\n",
    "    timeout_minutes=60, \n",
    "    trial_timeout_minutes=20, \n",
    "    max_trials=5,\n",
    "    enable_early_termination=True,\n",
    ")\n",
    "\n",
    "# submit the AutoML job\n",
    "returned_job = ml_client.jobs.create_or_update(\n",
    "    classification_job\n",
    ") \n",
    "aml_url = returned_job.studio_url\n",
    "print(\"Monitor your job at\", aml_url)"
   ]
  },
  {
   "cell_type": "markdown",
   "metadata": {},
   "source": [
    "### 3. Repeat with MLTable asset where `colocated=False` + compute instance instead of cluster"
   ]
  },
  {
   "cell_type": "markdown",
   "metadata": {},
   "source": [
    "- This will throw an error \"User starting the run is not an owner or assigned user to the Compute Instance\".\n",
    "- This is because we are sending the jobs as a Service Principal. If the job is sent from the AML workspace, or from VSCode connected to the workspace, (under the logged-in user's credential), this will be fine."
   ]
  },
  {
   "cell_type": "code",
   "execution_count": 11,
   "metadata": {},
   "outputs": [
    {
     "name": "stdout",
     "output_type": "stream",
     "text": [
      "azureml:mltable_diabetes_data_asset2:1\n",
      "Monitor your job at https://ml.azure.com/runs/bright_picture_cpln9xc7h2?wsid=/subscriptions/e5615bfe-b43b-41ce-bccb-b78867c2ce63/resourcegroups/rg-dp100-demo-001/workspaces/mlw-dp100-demo&tid=3c2288b7-c4ac-4ad8-a4f3-32a569108be3\n"
     ]
    }
   ],
   "source": [
    "# configure the data input\n",
    "data_asset_tuple = [(asset.name, asset.latest_version) for asset in ml_client.data.list() if asset.name == \"mltable_diabetes_data_asset2\"][0]\n",
    "data_asset = ml_client.data.get(name=data_asset_tuple[0], version=data_asset_tuple[1])\n",
    "input_path = f\"azureml:{data_asset.name}:{data_asset.version}\"\n",
    "print(input_path)\n",
    "my_training_data_input = Input(type=AssetTypes.MLTABLE, # only MLTABLE is supported for automl\n",
    "                               path=input_path)\n",
    "\n",
    "# configure the classification job\n",
    "classification_job = automl.classification(\n",
    "    compute=\"vm-ml-dev\",\n",
    "    experiment_name=\"auto-ml-diabetes-classification\",\n",
    "    training_data=my_training_data_input,\n",
    "    target_column_name=\"Outcome\",\n",
    "    primary_metric=\"accuracy\",\n",
    "    n_cross_validations=5,\n",
    "    enable_model_explainability=True\n",
    ")\n",
    "\n",
    "classification_job.set_limits(\n",
    "    timeout_minutes=60, \n",
    "    trial_timeout_minutes=20, \n",
    "    max_trials=5,\n",
    "    enable_early_termination=True,\n",
    ")\n",
    "\n",
    "# submit the AutoML job\n",
    "returned_job = ml_client.jobs.create_or_update(\n",
    "    classification_job\n",
    ") \n",
    "aml_url = returned_job.studio_url\n",
    "print(\"Monitor your job at\", aml_url)"
   ]
  },
  {
   "cell_type": "markdown",
   "metadata": {},
   "source": [
    "### 4. Repeat with additional config to allow certain models only"
   ]
  },
  {
   "cell_type": "code",
   "execution_count": 12,
   "metadata": {},
   "outputs": [
    {
     "name": "stdout",
     "output_type": "stream",
     "text": [
      "azureml:mltable_diabetes_data_asset2:1\n",
      "Monitor your job at https://ml.azure.com/runs/silver_clock_yhft57nzyq?wsid=/subscriptions/e5615bfe-b43b-41ce-bccb-b78867c2ce63/resourcegroups/rg-dp100-demo-001/workspaces/mlw-dp100-demo&tid=3c2288b7-c4ac-4ad8-a4f3-32a569108be3\n"
     ]
    }
   ],
   "source": [
    "# configure the data input\n",
    "data_asset_tuple = [(asset.name, asset.latest_version) for asset in ml_client.data.list() if asset.name == \"mltable_diabetes_data_asset2\"][0]\n",
    "data_asset = ml_client.data.get(name=data_asset_tuple[0], version=data_asset_tuple[1])\n",
    "input_path = f\"azureml:{data_asset.name}:{data_asset.version}\"\n",
    "print(input_path)\n",
    "my_training_data_input = Input(type=AssetTypes.MLTABLE, # only MLTABLE is supported for automl\n",
    "                               path=input_path)\n",
    "\n",
    "# configure the classification job\n",
    "classification_job = automl.classification(\n",
    "    compute=COMPUTE_CLUSTER,\n",
    "    experiment_name=\"auto-ml-diabetes-classification\",\n",
    "    training_data=my_training_data_input,\n",
    "    target_column_name=\"Outcome\",\n",
    "    primary_metric=\"accuracy\",\n",
    "    n_cross_validations=5,\n",
    "    enable_model_explainability=True,\n",
    ")\n",
    "\n",
    "classification_job.set_limits(\n",
    "    timeout_minutes=60, \n",
    "    trial_timeout_minutes=20, \n",
    "    max_trials=5,\n",
    "    enable_early_termination=True,\n",
    ")\n",
    "\n",
    "# Training properties are optional\n",
    "classification_job.set_training(\n",
    "    allowed_training_algorithms=[\"SVM\", \"MultinomialNaiveBayes\", \"LogisticRegression\", \"LightGBM\", \"XGBoostClassifier\"], \n",
    "    enable_onnx_compatible_models=True,\n",
    "    enable_stack_ensemble=True,\n",
    "    enable_vote_ensemble=True,\n",
    ")\n",
    "\n",
    "# submit the AutoML job\n",
    "returned_job = ml_client.jobs.create_or_update(\n",
    "    classification_job\n",
    ") \n",
    "aml_url = returned_job.studio_url\n",
    "print(\"Monitor your job at\", aml_url)"
   ]
  },
  {
   "cell_type": "code",
   "execution_count": null,
   "metadata": {},
   "outputs": [],
   "source": []
  },
  {
   "cell_type": "markdown",
   "metadata": {},
   "source": [
    "## II. Manual Training with exploration"
   ]
  },
  {
   "cell_type": "markdown",
   "metadata": {},
   "source": [
    "- References: https://github.com/MicrosoftLearning/mslearn-azure-ml/blob/main/Labs/08/src/Train%20classification%20model.ipynb\n",
    "- Main modification: \n",
    "    - changed the data source to data asset on workspace\n",
    "    - changed the column names used as the datasets are different"
   ]
  },
  {
   "cell_type": "markdown",
   "metadata": {},
   "source": [
    "### 1. Read data from data asset"
   ]
  },
  {
   "cell_type": "code",
   "execution_count": 7,
   "metadata": {},
   "outputs": [
    {
     "name": "stdout",
     "output_type": "stream",
     "text": [
      "('urifile_diabetes_data_asset', '1')\n"
     ]
    },
    {
     "data": {
      "text/html": [
       "<div>\n",
       "<style scoped>\n",
       "    .dataframe tbody tr th:only-of-type {\n",
       "        vertical-align: middle;\n",
       "    }\n",
       "\n",
       "    .dataframe tbody tr th {\n",
       "        vertical-align: top;\n",
       "    }\n",
       "\n",
       "    .dataframe thead th {\n",
       "        text-align: right;\n",
       "    }\n",
       "</style>\n",
       "<table border=\"1\" class=\"dataframe\">\n",
       "  <thead>\n",
       "    <tr style=\"text-align: right;\">\n",
       "      <th></th>\n",
       "      <th>Pregnancies</th>\n",
       "      <th>Glucose</th>\n",
       "      <th>BloodPressure</th>\n",
       "      <th>SkinThickness</th>\n",
       "      <th>Insulin</th>\n",
       "      <th>BMI</th>\n",
       "      <th>DiabetesPedigreeFunction</th>\n",
       "      <th>Age</th>\n",
       "      <th>Outcome</th>\n",
       "    </tr>\n",
       "  </thead>\n",
       "  <tbody>\n",
       "    <tr>\n",
       "      <th>0</th>\n",
       "      <td>6</td>\n",
       "      <td>148</td>\n",
       "      <td>72</td>\n",
       "      <td>35</td>\n",
       "      <td>0</td>\n",
       "      <td>33.6</td>\n",
       "      <td>0.627</td>\n",
       "      <td>50</td>\n",
       "      <td>1</td>\n",
       "    </tr>\n",
       "    <tr>\n",
       "      <th>1</th>\n",
       "      <td>1</td>\n",
       "      <td>85</td>\n",
       "      <td>66</td>\n",
       "      <td>29</td>\n",
       "      <td>0</td>\n",
       "      <td>26.6</td>\n",
       "      <td>0.351</td>\n",
       "      <td>31</td>\n",
       "      <td>0</td>\n",
       "    </tr>\n",
       "  </tbody>\n",
       "</table>\n",
       "</div>"
      ],
      "text/plain": [
       "   Pregnancies  Glucose  BloodPressure  SkinThickness  Insulin   BMI  \\\n",
       "0            6      148             72             35        0  33.6   \n",
       "1            1       85             66             29        0  26.6   \n",
       "\n",
       "   DiabetesPedigreeFunction  Age  Outcome  \n",
       "0                     0.627   50        1  \n",
       "1                     0.351   31        0  "
      ]
     },
     "execution_count": 7,
     "metadata": {},
     "output_type": "execute_result"
    }
   ],
   "source": [
    "data_asset_tuple = [(asset.name, asset.latest_version) for asset in ml_client.data.list() if asset.name == URIFILE_DATA_ASSET_NAME][0]\n",
    "print(data_asset_tuple)\n",
    "data_asset = ml_client.data.get(name=data_asset_tuple[0], version=data_asset_tuple[1])\n",
    "df = pd.read_csv(data_asset.path)\n",
    "df.head(2)"
   ]
  },
  {
   "cell_type": "markdown",
   "metadata": {},
   "source": [
    "### 1. Read data from local (alternative, for offline testing of codes)"
   ]
  },
  {
   "cell_type": "code",
   "execution_count": 3,
   "metadata": {},
   "outputs": [
    {
     "data": {
      "text/html": [
       "<div>\n",
       "<style scoped>\n",
       "    .dataframe tbody tr th:only-of-type {\n",
       "        vertical-align: middle;\n",
       "    }\n",
       "\n",
       "    .dataframe tbody tr th {\n",
       "        vertical-align: top;\n",
       "    }\n",
       "\n",
       "    .dataframe thead th {\n",
       "        text-align: right;\n",
       "    }\n",
       "</style>\n",
       "<table border=\"1\" class=\"dataframe\">\n",
       "  <thead>\n",
       "    <tr style=\"text-align: right;\">\n",
       "      <th></th>\n",
       "      <th>Pregnancies</th>\n",
       "      <th>Glucose</th>\n",
       "      <th>BloodPressure</th>\n",
       "      <th>SkinThickness</th>\n",
       "      <th>Insulin</th>\n",
       "      <th>BMI</th>\n",
       "      <th>DiabetesPedigreeFunction</th>\n",
       "      <th>Age</th>\n",
       "      <th>Outcome</th>\n",
       "    </tr>\n",
       "  </thead>\n",
       "  <tbody>\n",
       "    <tr>\n",
       "      <th>0</th>\n",
       "      <td>6</td>\n",
       "      <td>148</td>\n",
       "      <td>72</td>\n",
       "      <td>35</td>\n",
       "      <td>0</td>\n",
       "      <td>33.6</td>\n",
       "      <td>0.627</td>\n",
       "      <td>50</td>\n",
       "      <td>1</td>\n",
       "    </tr>\n",
       "    <tr>\n",
       "      <th>1</th>\n",
       "      <td>1</td>\n",
       "      <td>85</td>\n",
       "      <td>66</td>\n",
       "      <td>29</td>\n",
       "      <td>0</td>\n",
       "      <td>26.6</td>\n",
       "      <td>0.351</td>\n",
       "      <td>31</td>\n",
       "      <td>0</td>\n",
       "    </tr>\n",
       "  </tbody>\n",
       "</table>\n",
       "</div>"
      ],
      "text/plain": [
       "   Pregnancies  Glucose  BloodPressure  SkinThickness  Insulin   BMI  \\\n",
       "0            6      148             72             35        0  33.6   \n",
       "1            1       85             66             29        0  26.6   \n",
       "\n",
       "   DiabetesPedigreeFunction  Age  Outcome  \n",
       "0                     0.627   50        1  \n",
       "1                     0.351   31        0  "
      ]
     },
     "execution_count": 3,
     "metadata": {},
     "output_type": "execute_result"
    }
   ],
   "source": [
    "df = pd.read_csv('./data/diabetes.csv')\n",
    "df.head(2)"
   ]
  },
  {
   "cell_type": "code",
   "execution_count": 5,
   "metadata": {},
   "outputs": [
    {
     "data": {
      "text/plain": [
       "Index(['Pregnancies', 'Glucose', 'BloodPressure', 'SkinThickness', 'Insulin',\n",
       "       'BMI', 'DiabetesPedigreeFunction', 'Age', 'Outcome'],\n",
       "      dtype='object')"
      ]
     },
     "execution_count": 5,
     "metadata": {},
     "output_type": "execute_result"
    }
   ],
   "source": [
    "df.columns"
   ]
  },
  {
   "cell_type": "markdown",
   "metadata": {},
   "source": [
    "### 2. Split data"
   ]
  },
  {
   "cell_type": "code",
   "execution_count": 6,
   "metadata": {},
   "outputs": [],
   "source": [
    "from sklearn.model_selection import train_test_split\n",
    "\n",
    "X = df[['Pregnancies', 'Glucose', 'BloodPressure', 'SkinThickness', 'Insulin',\n",
    "       'BMI', 'DiabetesPedigreeFunction', 'Age']].values\n",
    "y = df['Outcome'].values\n",
    "X_train, X_test, y_train, y_test = train_test_split(X, y, test_size=0.30, random_state=0)"
   ]
  },
  {
   "cell_type": "markdown",
   "metadata": {},
   "source": [
    "### 3. Train a model"
   ]
  },
  {
   "cell_type": "code",
   "execution_count": 7,
   "metadata": {},
   "outputs": [
    {
     "name": "stdout",
     "output_type": "stream",
     "text": [
      "Training model...\n"
     ]
    }
   ],
   "source": [
    "from sklearn.linear_model import LogisticRegression\n",
    "\n",
    "print(\"Training model...\")\n",
    "model = LogisticRegression(C=1/0.1, solver=\"liblinear\").fit(X_train, y_train)"
   ]
  },
  {
   "cell_type": "markdown",
   "metadata": {},
   "source": [
    "### 4. Evaluate Model"
   ]
  },
  {
   "cell_type": "code",
   "execution_count": 8,
   "metadata": {},
   "outputs": [
    {
     "name": "stdout",
     "output_type": "stream",
     "text": [
      "Accuracy: 0.7835497835497836\n",
      "AUC: 0.8363745911516612\n"
     ]
    },
    {
     "data": {
      "text/plain": [
       "Text(0.5, 1.0, 'ROC Curve')"
      ]
     },
     "execution_count": 8,
     "metadata": {},
     "output_type": "execute_result"
    },
    {
     "data": {
      "image/png": "[encoded data removed]",
      "text/plain": [
       "<Figure size 600x400 with 1 Axes>"
      ]
     },
     "metadata": {},
     "output_type": "display_data"
    }
   ],
   "source": [
    "import numpy as np\n",
    "from sklearn.metrics import roc_auc_score\n",
    "from sklearn.metrics import roc_curve\n",
    "import matplotlib.pyplot as plt\n",
    "\n",
    "y_hat = model.predict(X_test)\n",
    "acc = np.average(y_hat == y_test)\n",
    "print('Accuracy:', acc)\n",
    "\n",
    "y_scores = model.predict_proba(X_test)\n",
    "auc = roc_auc_score(y_test,y_scores[:,1])\n",
    "print('AUC: ' + str(auc))\n",
    "\n",
    "# plot ROC curve\n",
    "fpr, tpr, thresholds = roc_curve(y_test, y_scores[:,1])\n",
    "fig = plt.figure(figsize=(6, 4))\n",
    "# Plot the diagonal 50% line\n",
    "plt.plot([0, 1], [0, 1], 'k--')\n",
    "# Plot the FPR and TPR achieved by our model\n",
    "plt.plot(fpr, tpr)\n",
    "plt.xlabel('False Positive Rate')\n",
    "plt.ylabel('True Positive Rate')\n",
    "plt.title('ROC Curve')"
   ]
  },
  {
   "cell_type": "markdown",
   "metadata": {},
   "source": [
    "## III. Manual training with train.py script"
   ]
  },
  {
   "cell_type": "markdown",
   "metadata": {},
   "source": [
    "with the following folder structure, we can pass different arguments to the training script inside the `diabetes` folder in terminal \n",
    "```bash\n",
    ".\n",
    "└── diabetes/\n",
    "    ├── data/\n",
    "    │   └── diabetes.csv\n",
    "    └── train.py\n",
    "```"
   ]
  },
  {
   "cell_type": "markdown",
   "metadata": {},
   "source": [
    "```bash\n",
    "$ python train.py --training_data ./data/diabetes.csv\n",
    "************************************************************\n",
    "Reading data...\n",
    "Splitting data...\n",
    "Training model...\n",
    "Accuracy: 0.7792207792207793\n",
    "AUC: 0.8357720778102944\n",
    "************************************************************\n",
    "```"
   ]
  },
  {
   "cell_type": "markdown",
   "metadata": {},
   "source": [
    "```bash\n",
    "$ python train.py --training_data ./data/diabetes.csv --reg_rate 0.05\n",
    "************************************************************\n",
    "Reading data...\n",
    "Splitting data...\n",
    "Training model...\n",
    "Accuracy: 0.7835497835497836\n",
    "AUC: 0.8366328111551041\n",
    "************************************************************\n",
    "```"
   ]
  },
  {
   "cell_type": "markdown",
   "metadata": {},
   "source": [
    "## IV. Submitting the Training Job to AML"
   ]
  },
  {
   "cell_type": "code",
   "execution_count": 3,
   "metadata": {},
   "outputs": [
    {
     "name": "stdout",
     "output_type": "stream",
     "text": [
      "[('diabetes-env', '1'), ('titanic-env', '5'), ('CliV2AnonymousEnvironment', '0'), ('pytorch-env', '1'), ('testenv-conda-002', '1'), ('testenv-conda', '1'), ('testenv', '1'), ('AzureML-AI-Studio-Development', '1'), ('AzureML-ACPT-pytorch-1.13-py38-cuda11.7-gpu', '10'), ('AzureML-ACPT-pytorch-1.12-py38-cuda11.6-gpu', '14'), ('AzureML-ACPT-pytorch-1.12-py39-cuda11.6-gpu', '14'), ('AzureML-ACPT-pytorch-1.11-py38-cuda11.5-gpu', '14'), ('AzureML-ACPT-pytorch-1.11-py38-cuda11.3-gpu', '17'), ('AzureML-responsibleai-0.21-ubuntu20.04-py38-cpu', '7'), ('AzureML-responsibleai-0.20-ubuntu20.04-py38-cpu', '9'), ('AzureML-tensorflow-2.5-ubuntu20.04-py38-cuda11-gpu', '27'), ('AzureML-tensorflow-2.6-ubuntu20.04-py38-cuda11-gpu', '26'), ('AzureML-tensorflow-2.7-ubuntu20.04-py38-cuda11-gpu', '26'), ('AzureML-sklearn-1.0-ubuntu20.04-py38-cpu', '36'), ('AzureML-pytorch-1.10-ubuntu18.04-py38-cuda11-gpu', '36'), ('AzureML-pytorch-1.9-ubuntu18.04-py37-cuda11-gpu', '44'), ('AzureML-pytorch-1.8-ubuntu18.04-py37-cuda11-gpu', '43'), ('AzureML-sklearn-0.24-ubuntu18.04-py37-cpu', '47'), ('AzureML-lightgbm-3.2-ubuntu18.04-py37-cpu', '51'), ('AzureML-pytorch-1.7-ubuntu18.04-py37-cuda11-gpu', '50'), ('AzureML-tensorflow-2.4-ubuntu18.04-py37-cuda11-gpu', '51'), ('AzureML-Triton', '23'), ('AzureML-Designer-Score', '12'), ('AzureML-VowpalWabbit-8.8.0', '40'), ('AzureML-PyTorch-1.3-CPU', '40')]\n"
     ]
    }
   ],
   "source": [
    "# getting the environment\n",
    "envs = ml_client.environments.list()\n",
    "print([(env.name, env.latest_version) for env in envs])\n",
    "diabetes_env = ml_client.environments.get(name='diabetes-env', version=1)"
   ]
  },
  {
   "cell_type": "code",
   "execution_count": 8,
   "metadata": {},
   "outputs": [
    {
     "name": "stderr",
     "output_type": "stream",
     "text": [
      "Class AutoDeleteSettingSchema: This is an experimental class, and may change at any time. Please see https://aka.ms/azuremlexperimental for more information.\n",
      "Class AutoDeleteConditionSchema: This is an experimental class, and may change at any time. Please see https://aka.ms/azuremlexperimental for more information.\n",
      "Class BaseAutoDeleteSettingSchema: This is an experimental class, and may change at any time. Please see https://aka.ms/azuremlexperimental for more information.\n",
      "Class IntellectualPropertySchema: This is an experimental class, and may change at any time. Please see https://aka.ms/azuremlexperimental for more information.\n",
      "Class ProtectionLevelSchema: This is an experimental class, and may change at any time. Please see https://aka.ms/azuremlexperimental for more information.\n",
      "Class BaseIntellectualPropertySchema: This is an experimental class, and may change at any time. Please see https://aka.ms/azuremlexperimental for more information.\n",
      "Warning: the provided asset name 'diabetes-env' will not be used for anonymous registration\n",
      "Warning: the provided asset name 'diabetes-env' will not be used for anonymous registration\n",
      "\u001b[32mUploading src (0.0 MBs): 100%|##########| 3006/3006 [00:00<00:00, 47827.44it/s]\n",
      "\u001b[39m\n",
      "\n"
     ]
    },
    {
     "data": {
      "text/html": [
       "<table style=\"width:100%\"><tr><th>Experiment</th><th>Name</th><th>Type</th><th>Status</th><th>Details Page</th></tr><tr><td>train-diabetes-classification-model</td><td>sleepy_kitchen_0bbkm591vp</td><td>command</td><td>Starting</td><td><a href=\"https://ml.azure.com/runs/sleepy_kitchen_0bbkm591vp?wsid=/subscriptions/e5615bfe-b43b-41ce-bccb-b78867c2ce63/resourcegroups/rg-dp100-demo-001/workspaces/mlw-dp100-demo&amp;tid=3c2288b7-c4ac-4ad8-a4f3-32a569108be3\" target=\"_blank\" rel=\"noopener\">Link to Azure Machine Learning studio</a></td></tr></table>"
      ],
      "text/plain": [
       "Command({'parameters': {}, 'init': False, 'name': 'sleepy_kitchen_0bbkm591vp', 'type': 'command', 'status': 'Starting', 'log_files': None, 'description': None, 'tags': {}, 'properties': {'mlflow.source.git.repoURL': 'https://github.com/joshuavaple/dp-100.git', 'mlflow.source.git.branch': 'main', 'mlflow.source.git.commit': 'bc9cd1dac6e918b2621e0045bf88da4883f798d4', 'azureml.git.dirty': 'True', '_azureml.ComputeTargetType': 'amlctrain', '_azureml.ClusterName': 'vmcluster-ml-dev', 'ContentSnapshotId': 'c3cac116-f955-4900-a817-028ff2d49a94'}, 'print_as_yaml': True, 'id': '/subscriptions/e5615bfe-b43b-41ce-bccb-b78867c2ce63/resourceGroups/rg-dp100-demo-001/providers/Microsoft.MachineLearningServices/workspaces/mlw-dp100-demo/jobs/sleepy_kitchen_0bbkm591vp', 'Resource__source_path': None, 'base_path': 'd:\\\\Repositories\\\\GitHub\\\\dp-100\\\\diabetes', 'creation_context': <azure.ai.ml.entities._system_data.SystemData object at 0x00000277C8175DD0>, 'serialize': <msrest.serialization.Serializer object at 0x00000277C49B5510>, 'allowed_keys': {}, 'key_restriction': False, 'logger': <Logger attr_dict (WARNING)>, 'display_name': 'train-diabetes-clf-model', 'experiment_name': 'train-diabetes-classification-model', 'compute': 'vmcluster-ml-dev', 'services': {'Tracking': {'endpoint': 'azureml://japaneast.api.azureml.ms/mlflow/v1.0/subscriptions/e5615bfe-b43b-41ce-bccb-b78867c2ce63/resourceGroups/rg-dp100-demo-001/providers/Microsoft.MachineLearningServices/workspaces/mlw-dp100-demo?', 'type': 'Tracking'}, 'Studio': {'endpoint': 'https://ml.azure.com/runs/sleepy_kitchen_0bbkm591vp?wsid=/subscriptions/e5615bfe-b43b-41ce-bccb-b78867c2ce63/resourcegroups/rg-dp100-demo-001/workspaces/mlw-dp100-demo&tid=3c2288b7-c4ac-4ad8-a4f3-32a569108be3', 'type': 'Studio'}}, 'comment': None, 'job_inputs': {}, 'job_outputs': {'default': {'type': 'uri_folder', 'path': 'azureml://datastores/workspaceartifactstore/ExperimentRun/dcid.sleepy_kitchen_0bbkm591vp', 'mode': 'rw_mount'}}, 'inputs': {}, 'outputs': {'default': <azure.ai.ml.entities._job.pipeline._io.base.NodeOutput object at 0x00000277C92A2550>}, 'component': CommandComponent({'intellectual_property': None, 'auto_increment_version': True, 'source': 'REMOTE.WORKSPACE.JOB', 'is_anonymous': False, 'auto_delete_setting': None, 'name': 'sleepy_kitchen_0bbkm591vp', 'description': None, 'tags': {}, 'properties': {}, 'print_as_yaml': True, 'id': None, 'Resource__source_path': None, 'base_path': 'd:\\\\Repositories\\\\GitHub\\\\dp-100\\\\diabetes', 'creation_context': <azure.ai.ml.entities._system_data.SystemData object at 0x00000277C8175DD0>, 'serialize': <msrest.serialization.Serializer object at 0x00000277C815DE50>, 'command': 'python train.py --training_data azureml://subscriptions/e5615bfe-b43b-41ce-bccb-b78867c2ce63/resourcegroups/rg-dp100-demo-001/workspaces/mlw-dp100-demo/datastores/blob_diabetes_datastore_sas/paths/diabetes.csv', 'code': '/subscriptions/e5615bfe-b43b-41ce-bccb-b78867c2ce63/resourceGroups/rg-dp100-demo-001/providers/Microsoft.MachineLearningServices/workspaces/mlw-dp100-demo/codes/821dbcb8-86bb-4585-b55c-509b3168fdba/versions/1', 'environment_variables': {}, 'environment': '/subscriptions/e5615bfe-b43b-41ce-bccb-b78867c2ce63/resourceGroups/rg-dp100-demo-001/providers/Microsoft.MachineLearningServices/workspaces/mlw-dp100-demo/environments/diabetes-env/versions/1', 'distribution': None, 'resources': None, 'queue_settings': None, 'version': None, 'latest_version': None, 'schema': None, 'type': 'command', 'display_name': 'train-diabetes-clf-model', 'is_deterministic': True, 'inputs': {}, 'outputs': {'default': {'type': 'uri_folder', 'path': 'azureml://datastores/workspaceartifactstore/ExperimentRun/dcid.sleepy_kitchen_0bbkm591vp', 'mode': 'rw_mount'}}, 'yaml_str': None, 'other_parameter': {'status': 'Starting', 'parameters': {}}, 'additional_includes': []}), 'referenced_control_flow_node_instance_id': None, 'kwargs': {'services': {'Tracking': {'endpoint': 'azureml://japaneast.api.azureml.ms/mlflow/v1.0/subscriptions/e5615bfe-b43b-41ce-bccb-b78867c2ce63/resourceGroups/rg-dp100-demo-001/providers/Microsoft.MachineLearningServices/workspaces/mlw-dp100-demo?', 'type': 'Tracking'}, 'Studio': {'endpoint': 'https://ml.azure.com/runs/sleepy_kitchen_0bbkm591vp?wsid=/subscriptions/e5615bfe-b43b-41ce-bccb-b78867c2ce63/resourcegroups/rg-dp100-demo-001/workspaces/mlw-dp100-demo&tid=3c2288b7-c4ac-4ad8-a4f3-32a569108be3', 'type': 'Studio'}}, 'status': 'Starting', 'creation_context': <azure.ai.ml.entities._system_data.SystemData object at 0x00000277C8175DD0>}, 'instance_id': '539caa82-d737-4563-9c36-66e43c8d0c2f', 'source': 'BUILDER', 'validate_required_input_not_provided': True, 'limits': None, 'identity': None, 'distribution': None, 'environment_variables': {}, 'environment': 'diabetes-env:1', 'resources': {'instance_count': 1, 'shm_size': '2g'}, 'queue_settings': None, 'swept': False})"
      ]
     },
     "execution_count": 8,
     "metadata": {},
     "output_type": "execute_result"
    }
   ],
   "source": [
    "# Inside author_training_job.py\n",
    "from azure.ai.ml import command\n",
    "\n",
    "# configure job\n",
    "command_job = command(\n",
    "    code=\"./src\",\n",
    "    command=f\"python train.py --training_data {data_asset.path}\",\n",
    "    environment=diabetes_env,\n",
    "    compute=COMPUTE_CLUSTER,\n",
    "    display_name=\"train-diabetes-clf-model\",\n",
    "    experiment_name=\"train-diabetes-classification-model\"\n",
    "    )\n",
    "\n",
    "\n",
    "# added inputs to avoid specifying the path in the command via f-string and {}, causing conflict with the other {{}} in the command\n",
    "command_job = command(\n",
    "    code=\"./src\",\n",
    "    command=\"python train_mlflow_autolog.py --training_data ${{inputs.training_data}}\",\n",
    "\n",
    "    inputs={\n",
    "        \"training_data\": data_asset.path \n",
    "    },\n",
    "    environment=diabetes_env,\n",
    "    compute=COMPUTE_CLUSTER,\n",
    "    display_name=\"train-diabetes-clf-model\",\n",
    "    experiment_name=\"train-diabetes-classification-model\"\n",
    "    )\n",
    "\n",
    "# submit the job and get the URL to see the status on AML\n",
    "returned_job = ml_client.jobs.create_or_update(command_job)\n",
    "returned_job"
   ]
  },
  {
   "cell_type": "markdown",
   "metadata": {},
   "source": [
    "## V. Repeat Job with MLflow autologging enabled + add custom logging param"
   ]
  },
  {
   "cell_type": "code",
   "execution_count": 11,
   "metadata": {},
   "outputs": [
    {
     "name": "stderr",
     "output_type": "stream",
     "text": [
      "Warning: the provided asset name 'diabetes-env' will not be used for anonymous registration\n",
      "Warning: the provided asset name 'diabetes-env' will not be used for anonymous registration\n",
      "\u001b[32mUploading src (0.01 MBs): 100%|##########| 6157/6157 [00:00<00:00, 11576.09it/s]\n",
      "\u001b[39m\n",
      "\n"
     ]
    },
    {
     "data": {
      "text/html": [
       "<table style=\"width:100%\"><tr><th>Experiment</th><th>Name</th><th>Type</th><th>Status</th><th>Details Page</th></tr><tr><td>train-diabetes-classification-model-mlflow-autolog</td><td>gifted_apricot_rm0c9mbvlv</td><td>command</td><td>Starting</td><td><a href=\"https://ml.azure.com/runs/gifted_apricot_rm0c9mbvlv?wsid=/subscriptions/e5615bfe-b43b-41ce-bccb-b78867c2ce63/resourcegroups/rg-dp100-demo-001/workspaces/mlw-dp100-demo&amp;tid=3c2288b7-c4ac-4ad8-a4f3-32a569108be3\" target=\"_blank\" rel=\"noopener\">Link to Azure Machine Learning studio</a></td></tr></table>"
      ],
      "text/plain": [
       "Command({'parameters': {}, 'init': False, 'name': 'gifted_apricot_rm0c9mbvlv', 'type': 'command', 'status': 'Starting', 'log_files': None, 'description': None, 'tags': {}, 'properties': {'mlflow.source.git.repoURL': 'https://github.com/joshuavaple/dp-100.git', 'mlflow.source.git.branch': 'main', 'mlflow.source.git.commit': 'bc9cd1dac6e918b2621e0045bf88da4883f798d4', 'azureml.git.dirty': 'True', '_azureml.ComputeTargetType': 'amlctrain', '_azureml.ClusterName': 'vmcluster-ml-dev', 'ContentSnapshotId': '34f265f9-1baa-44bb-b1da-563b2defc0ab'}, 'print_as_yaml': True, 'id': '/subscriptions/e5615bfe-b43b-41ce-bccb-b78867c2ce63/resourceGroups/rg-dp100-demo-001/providers/Microsoft.MachineLearningServices/workspaces/mlw-dp100-demo/jobs/gifted_apricot_rm0c9mbvlv', 'Resource__source_path': None, 'base_path': 'd:\\\\Repositories\\\\GitHub\\\\dp-100\\\\diabetes', 'creation_context': <azure.ai.ml.entities._system_data.SystemData object at 0x00000277C93F6C90>, 'serialize': <msrest.serialization.Serializer object at 0x00000277C93E9310>, 'allowed_keys': {}, 'key_restriction': False, 'logger': <Logger attr_dict (WARNING)>, 'display_name': 'train-diabetes-clf-model-mlflow-autolog-customlog', 'experiment_name': 'train-diabetes-classification-model-mlflow-autolog', 'compute': 'vmcluster-ml-dev', 'services': {'Tracking': {'endpoint': 'azureml://japaneast.api.azureml.ms/mlflow/v1.0/subscriptions/e5615bfe-b43b-41ce-bccb-b78867c2ce63/resourceGroups/rg-dp100-demo-001/providers/Microsoft.MachineLearningServices/workspaces/mlw-dp100-demo?', 'type': 'Tracking'}, 'Studio': {'endpoint': 'https://ml.azure.com/runs/gifted_apricot_rm0c9mbvlv?wsid=/subscriptions/e5615bfe-b43b-41ce-bccb-b78867c2ce63/resourcegroups/rg-dp100-demo-001/workspaces/mlw-dp100-demo&tid=3c2288b7-c4ac-4ad8-a4f3-32a569108be3', 'type': 'Studio'}}, 'comment': None, 'job_inputs': {}, 'job_outputs': {'default': {'type': 'uri_folder', 'path': 'azureml://datastores/workspaceartifactstore/ExperimentRun/dcid.gifted_apricot_rm0c9mbvlv', 'mode': 'rw_mount'}}, 'inputs': {}, 'outputs': {'default': <azure.ai.ml.entities._job.pipeline._io.base.NodeOutput object at 0x00000277C93E9250>}, 'component': CommandComponent({'intellectual_property': None, 'auto_increment_version': True, 'source': 'REMOTE.WORKSPACE.JOB', 'is_anonymous': False, 'auto_delete_setting': None, 'name': 'gifted_apricot_rm0c9mbvlv', 'description': None, 'tags': {}, 'properties': {}, 'print_as_yaml': True, 'id': None, 'Resource__source_path': None, 'base_path': 'd:\\\\Repositories\\\\GitHub\\\\dp-100\\\\diabetes', 'creation_context': <azure.ai.ml.entities._system_data.SystemData object at 0x00000277C93F6C90>, 'serialize': <msrest.serialization.Serializer object at 0x00000277C92A1C90>, 'command': 'python train_mlflow_autolog.py --training_data azureml://subscriptions/e5615bfe-b43b-41ce-bccb-b78867c2ce63/resourcegroups/rg-dp100-demo-001/workspaces/mlw-dp100-demo/datastores/blob_diabetes_datastore_sas/paths/diabetes.csv', 'code': '/subscriptions/e5615bfe-b43b-41ce-bccb-b78867c2ce63/resourceGroups/rg-dp100-demo-001/providers/Microsoft.MachineLearningServices/workspaces/mlw-dp100-demo/codes/7a094d61-6638-4dcc-bb55-a8a408179b60/versions/1', 'environment_variables': {}, 'environment': '/subscriptions/e5615bfe-b43b-41ce-bccb-b78867c2ce63/resourceGroups/rg-dp100-demo-001/providers/Microsoft.MachineLearningServices/workspaces/mlw-dp100-demo/environments/diabetes-env/versions/1', 'distribution': None, 'resources': None, 'queue_settings': None, 'version': None, 'latest_version': None, 'schema': None, 'type': 'command', 'display_name': 'train-diabetes-clf-model-mlflow-autolog-customlog', 'is_deterministic': True, 'inputs': {}, 'outputs': {'default': {'type': 'uri_folder', 'path': 'azureml://datastores/workspaceartifactstore/ExperimentRun/dcid.gifted_apricot_rm0c9mbvlv', 'mode': 'rw_mount'}}, 'yaml_str': None, 'other_parameter': {'status': 'Starting', 'parameters': {}}, 'additional_includes': []}), 'referenced_control_flow_node_instance_id': None, 'kwargs': {'services': {'Tracking': {'endpoint': 'azureml://japaneast.api.azureml.ms/mlflow/v1.0/subscriptions/e5615bfe-b43b-41ce-bccb-b78867c2ce63/resourceGroups/rg-dp100-demo-001/providers/Microsoft.MachineLearningServices/workspaces/mlw-dp100-demo?', 'type': 'Tracking'}, 'Studio': {'endpoint': 'https://ml.azure.com/runs/gifted_apricot_rm0c9mbvlv?wsid=/subscriptions/e5615bfe-b43b-41ce-bccb-b78867c2ce63/resourcegroups/rg-dp100-demo-001/workspaces/mlw-dp100-demo&tid=3c2288b7-c4ac-4ad8-a4f3-32a569108be3', 'type': 'Studio'}}, 'status': 'Starting', 'creation_context': <azure.ai.ml.entities._system_data.SystemData object at 0x00000277C93F6C90>}, 'instance_id': '38759150-3818-4dbb-9925-ad83ff3126dd', 'source': 'BUILDER', 'validate_required_input_not_provided': True, 'limits': None, 'identity': None, 'distribution': None, 'environment_variables': {}, 'environment': 'diabetes-env:1', 'resources': {'instance_count': 1, 'shm_size': '2g'}, 'queue_settings': None, 'swept': False})"
      ]
     },
     "execution_count": 11,
     "metadata": {},
     "output_type": "execute_result"
    }
   ],
   "source": [
    "from azure.ai.ml import command\n",
    "\n",
    "\n",
    "diabetes_env = ml_client.environments.get(name='diabetes-env', version=1)\n",
    "# configure job\n",
    "command_job = command(\n",
    "    code=\"./src\",\n",
    "    command=f\"python train_mlflow_autolog.py --training_data {data_asset.path}\",\n",
    "    inputs={\n",
    "        \"training_data\": data_asset.path # added this to avoid specifying the path in the command via f-string and {}, causing conflict with the other {{}} in the command\n",
    "    },\n",
    "    environment=diabetes_env,\n",
    "    compute=COMPUTE_CLUSTER,\n",
    "    display_name=\"train-diabetes-clf-model-mlflow-autolog-customlog\",\n",
    "    experiment_name=\"train-diabetes-classification-model-mlflow-autolog\"\n",
    "    )\n",
    "\n",
    "# added inputs to avoid specifying the path in the command via f-string and {}, causing conflict with the other {{}} in the command\n",
    "command_job = command(\n",
    "    code=\"./src\",\n",
    "    command=\"python train_mlflow_autolog.py --training_data ${{inputs.training_data}}\",\n",
    "\n",
    "    inputs={\n",
    "        \"training_data\": data_asset.path \n",
    "    },\n",
    "    environment=diabetes_env,\n",
    "    compute=COMPUTE_CLUSTER,\n",
    "    display_name=\"train-diabetes-clf-model-mlflow-autolog-customlog\",\n",
    "    experiment_name=\"train-diabetes-classification-model-mlflow-autolog\"\n",
    "    )\n",
    "\n",
    "\n",
    "# submit the job and get the URL to see the status on AML\n",
    "returned_job = ml_client.jobs.create_or_update(command_job)\n",
    "returned_job"
   ]
  },
  {
   "cell_type": "markdown",
   "metadata": {},
   "source": [
    "## VI. Repeat Job with logging the model to MLflow"
   ]
  },
  {
   "cell_type": "code",
   "execution_count": 4,
   "metadata": {},
   "outputs": [
    {
     "name": "stdout",
     "output_type": "stream",
     "text": [
      "[('diabetes-env', '1'), ('titanic-env', '5'), ('CliV2AnonymousEnvironment', '0'), ('pytorch-env', '1'), ('testenv-conda-002', '1'), ('testenv-conda', '1'), ('testenv', '1'), ('AzureML-AI-Studio-Development', '1'), ('AzureML-ACPT-pytorch-1.13-py38-cuda11.7-gpu', '10'), ('AzureML-ACPT-pytorch-1.12-py38-cuda11.6-gpu', '14'), ('AzureML-ACPT-pytorch-1.12-py39-cuda11.6-gpu', '14'), ('AzureML-ACPT-pytorch-1.11-py38-cuda11.5-gpu', '14'), ('AzureML-ACPT-pytorch-1.11-py38-cuda11.3-gpu', '17'), ('AzureML-responsibleai-0.21-ubuntu20.04-py38-cpu', '7'), ('AzureML-responsibleai-0.20-ubuntu20.04-py38-cpu', '9'), ('AzureML-tensorflow-2.5-ubuntu20.04-py38-cuda11-gpu', '27'), ('AzureML-tensorflow-2.6-ubuntu20.04-py38-cuda11-gpu', '26'), ('AzureML-tensorflow-2.7-ubuntu20.04-py38-cuda11-gpu', '26'), ('AzureML-sklearn-1.0-ubuntu20.04-py38-cpu', '36'), ('AzureML-pytorch-1.10-ubuntu18.04-py38-cuda11-gpu', '36'), ('AzureML-pytorch-1.9-ubuntu18.04-py37-cuda11-gpu', '44'), ('AzureML-pytorch-1.8-ubuntu18.04-py37-cuda11-gpu', '43'), ('AzureML-sklearn-0.24-ubuntu18.04-py37-cpu', '47'), ('AzureML-lightgbm-3.2-ubuntu18.04-py37-cpu', '51'), ('AzureML-pytorch-1.7-ubuntu18.04-py37-cuda11-gpu', '50'), ('AzureML-tensorflow-2.4-ubuntu18.04-py37-cuda11-gpu', '51'), ('AzureML-Triton', '23'), ('AzureML-Designer-Score', '12'), ('AzureML-VowpalWabbit-8.8.0', '40'), ('AzureML-PyTorch-1.3-CPU', '40')]\n",
      "('urifile_diabetes_data_asset', '1')\n",
      "   Pregnancies  Glucose  BloodPressure  SkinThickness  Insulin   BMI  \\\n",
      "0            6      148             72             35        0  33.6   \n",
      "1            1       85             66             29        0  26.6   \n",
      "\n",
      "   DiabetesPedigreeFunction  Age  Outcome  \n",
      "0                     0.627   50        1  \n",
      "1                     0.351   31        0  \n"
     ]
    }
   ],
   "source": [
    "# getting the environment\n",
    "envs = ml_client.environments.list()\n",
    "print([(env.name, env.latest_version) for env in envs])\n",
    "diabetes_env = ml_client.environments.get(name='diabetes-env', version=1)\n",
    "\n",
    "# test reading the data asset\n",
    "data_asset_tuple = [(asset.name, asset.latest_version) for asset in ml_client.data.list() if asset.name == URIFILE_DATA_ASSET_NAME][0]\n",
    "print(data_asset_tuple)\n",
    "data_asset = ml_client.data.get(name=data_asset_tuple[0], version=data_asset_tuple[1])\n",
    "df = pd.read_csv(data_asset.path)\n",
    "print(df.head(2))\n",
    "\n",
    "diabetes_env = ml_client.environments.get(name='diabetes-env', version=1)\n"
   ]
  },
  {
   "cell_type": "code",
   "execution_count": 6,
   "metadata": {},
   "outputs": [
    {
     "name": "stderr",
     "output_type": "stream",
     "text": [
      "Warning: the provided asset name 'diabetes-env' will not be used for anonymous registration\n",
      "Warning: the provided asset name 'diabetes-env' will not be used for anonymous registration\n"
     ]
    },
    {
     "name": "stdout",
     "output_type": "stream",
     "text": [
      "Monitor your job at https://ml.azure.com/runs/icy_library_fn7vwqxgny?wsid=/subscriptions/e5615bfe-b43b-41ce-bccb-b78867c2ce63/resourcegroups/rg-dp100-demo-001/workspaces/mlw-dp100-demo&tid=3c2288b7-c4ac-4ad8-a4f3-32a569108be3\n"
     ]
    }
   ],
   "source": [
    "from azure.ai.ml import command\n",
    "\n",
    "\n",
    "# added inputs to avoid specifying the path in the command via f-string and {}, causing conflict with the other {{}} in the command\n",
    "command_job = command(\n",
    "    code=\"./src\",\n",
    "    command=\"python train_mlflow_log_model.py --training_data ${{inputs.training_data}} --reg_rate ${{inputs.reg_rate}} --registered_model_name ${{inputs.registered_model_name}}\",\n",
    "\n",
    "    inputs={\n",
    "        \"reg_rate\": 0.01,\n",
    "        \"training_data\": data_asset.path, # added this to avoid specifying the path in the command via f-string and {}, causing conflict with the other {{}} in the command\n",
    "        \"registered_model_name\": \"diabetes_classification_model_reg_rate_0.01\"\n",
    "    },\n",
    "    environment=diabetes_env,\n",
    "    compute=COMPUTE_CLUSTER,\n",
    "    display_name=\"train-diabetes-clf-model-modellog\",\n",
    "    experiment_name=\"train-diabetes-classification-model-modellog\"\n",
    "    )\n",
    "# or you can specify the experiment name outside of the command()\n",
    "# command_job.experiment_name=\"bla-bla\"\n",
    "# command_job.display_name = \"bla-bla\"\n",
    "\n",
    "# submit the job and get the URL to see the status on AML\n",
    "returned_job = ml_client.jobs.create_or_update(command_job)\n",
    "aml_url = returned_job.studio_url\n",
    "print(\"Monitor your job at\", aml_url)"
   ]
  },
  {
   "cell_type": "markdown",
   "metadata": {},
   "source": [
    "## (TBU) Interacting with Logged Experiments"
   ]
  },
  {
   "cell_type": "markdown",
   "metadata": {},
   "source": [
    "There seems to be no modules to interact with the workspace experiments - TBU"
   ]
  },
  {
   "cell_type": "code",
   "execution_count": 30,
   "metadata": {},
   "outputs": [
    {
     "name": "stdout",
     "output_type": "stream",
     "text": [
      "None\n"
     ]
    }
   ],
   "source": [
    "import mlflow\n",
    "\n",
    "exp = mlflow.get_experiment_by_name(\"train-diabetes-classification-model-mlflow-autolog\")\n",
    "print(exp)"
   ]
  },
  {
   "cell_type": "code",
   "execution_count": 19,
   "metadata": {},
   "outputs": [
    {
     "name": "stdout",
     "output_type": "stream",
     "text": [
      "train-diabetes-clf-model-mlflow-autolog-customlog \t gifted_apricot_rm0c9mbvlv \t Completed\n",
      "train-diabetes-clf-model-mlflow-autolog \t loyal_stem_qyy1038xml \t Completed\n",
      "train-diabetes-clf-model \t sleepy_kitchen_0bbkm591vp \t Completed\n",
      "silver_clock_yhft57nzyq \t silver_clock_yhft57nzyq \t Completed\n",
      "using-compute-instance-colocated-False \t bright_picture_cpln9xc7h2 \t Failed\n",
      "using-compute-cluster-mltable-colocated-False \t sad_horse_mx7y6pxzx6 \t Completed\n",
      "using-compute-cluster-mltable-colocated-True \t wheat_leather_b703wm8yjl \t Completed\n",
      "bubbly_eagle_lr9b3syt3y \t bubbly_eagle_lr9b3syt3y \t Failed\n",
      "musing_nest_ltzhml7vdw \t musing_nest_ltzhml7vdw \t Failed\n",
      "titanic_survival_pipeline \t wheat_beach_nbfwwr7xkj \t Completed\n",
      "titanic_survival_pipeline \t lime_star_v14v97j9pg \t Completed\n",
      "titanic_survival_pipeline \t brave_skin_n7fkgtsrm7 \t Failed\n",
      "titanic_survival_pipeline \t upbeat_chin_0h2274rc0m \t Completed\n",
      "titanic_survival_pipeline \t tough_fork_bt7c06bxmx \t Failed\n",
      "titanic_survival_pipeline \t magenta_cheetah_gktsp6x1jd \t Completed\n",
      "titanic_survival_pipeline \t olive_cake_2xfmryt8hc \t Completed\n",
      "titanic_survival_pipeline \t joyful_chicken_wl565x9lcx \t Completed\n",
      "titanic_survival_pipeline \t olive_sand_3mn6880fhy \t Completed\n",
      "titanic_survival_pipeline \t lime_cow_7hw4sy4xs8 \t Failed\n",
      "titanic_survival_pipeline \t mango_bucket_fcpghw83rm \t Failed\n",
      "titanic_survival_pipeline \t gifted_brake_7cz7n33q74 \t Failed\n",
      "titanic_survival_pipeline \t careful_flower_0vhmk1vccn \t Failed\n",
      "olive_jackal_lhmsy9phql \t olive_jackal_lhmsy9phql \t Completed\n",
      "bright_library_xl3trr33k7 \t bright_library_xl3trr33k7 \t Failed\n",
      "yellow_bee_x7ft7qc904 \t yellow_bee_x7ft7qc904 \t Completed\n",
      "witty_stick_614qdzxgjp \t witty_stick_614qdzxgjp \t Canceled\n",
      "pipeline_with_python_function_components \t yellow_lychee_v9v60xkdjk \t Completed\n",
      "frank_shelf_7rhxf8xyp2 \t frank_shelf_7rhxf8xyp2 \t Canceled\n",
      "test-job \t test-job \t Completed\n",
      "dreamy_bucket_hmdgd19wdg \t dreamy_bucket_hmdgd19wdg \t Completed\n",
      "musing_oxygen_lpx148r552 \t musing_oxygen_lpx148r552 \t Completed\n",
      "epic_wire_fl7w888qgw \t epic_wire_fl7w888qgw \t Failed\n",
      "jolly_lobster_q57fd1l82q \t jolly_lobster_q57fd1l82q \t Failed\n",
      "olive_nutmeg_cqgmvr8bpb \t olive_nutmeg_cqgmvr8bpb \t Failed\n",
      "Hourly Precipitation Prediction \t df91eb1c-e14d-4b0e-b980-20c22c0732a0 \t Completed\n",
      "Regression - Automobile Price Prediction (Compare algorithms) \t a430b587-adac-426c-bcf2-6cea2dc8bafd \t Completed\n"
     ]
    }
   ],
   "source": [
    "# getting the jobs in the workspace\n",
    "jobs = ml_client.jobs.list()\n",
    "for job in jobs:\n",
    "    print(job.display_name, '\\t', job.name, '\\t', job.status)"
   ]
  },
  {
   "cell_type": "code",
   "execution_count": 28,
   "metadata": {},
   "outputs": [],
   "source": [
    "#  get job by name:\n",
    "job = ml_client.jobs.get(name=\"gifted_apricot_rm0c9mbvlv\")\n",
    "# job.__dict__"
   ]
  },
  {
   "cell_type": "code",
   "execution_count": 29,
   "metadata": {},
   "outputs": [
    {
     "data": {
      "text/plain": [
       "{'training_data': 'azureml://subscriptions/e5615bfe-b43b-41ce-bccb-b78867c2ce63/resourcegroups/rg-dp100-demo-001/workspaces/mlw-dp100-demo/datastores/blob_diabetes_datastore_sas/paths/diabetes.csv',\n",
       " 'reg_rate': '0.01',\n",
       " 'C': '100.0',\n",
       " 'class_weight': 'None',\n",
       " 'dual': 'False',\n",
       " 'fit_intercept': 'True',\n",
       " 'intercept_scaling': '1',\n",
       " 'l1_ratio': 'None',\n",
       " 'max_iter': '100',\n",
       " 'multi_class': 'auto',\n",
       " 'n_jobs': 'None',\n",
       " 'penalty': 'l2',\n",
       " 'random_state': 'None',\n",
       " 'solver': 'liblinear',\n",
       " 'tol': '0.0001',\n",
       " 'verbose': '0',\n",
       " 'warm_start': 'False'}"
      ]
     },
     "execution_count": 29,
     "metadata": {},
     "output_type": "execute_result"
    }
   ],
   "source": [
    "job._parameters"
   ]
  },
  {
   "cell_type": "markdown",
   "metadata": {},
   "source": [
    "## VII. Hyperparameter Tuning with Sweeping"
   ]
  },
  {
   "cell_type": "code",
   "execution_count": 13,
   "metadata": {},
   "outputs": [
    {
     "name": "stdout",
     "output_type": "stream",
     "text": [
      "[('diabetes-env', '1'), ('titanic-env', '5'), ('CliV2AnonymousEnvironment', '0'), ('pytorch-env', '1'), ('testenv-conda-002', '1'), ('testenv-conda', '1'), ('testenv', '1'), ('AzureML-AI-Studio-Development', '1'), ('AzureML-ACPT-pytorch-1.13-py38-cuda11.7-gpu', '10'), ('AzureML-ACPT-pytorch-1.12-py38-cuda11.6-gpu', '14'), ('AzureML-ACPT-pytorch-1.12-py39-cuda11.6-gpu', '14'), ('AzureML-ACPT-pytorch-1.11-py38-cuda11.5-gpu', '14'), ('AzureML-ACPT-pytorch-1.11-py38-cuda11.3-gpu', '17'), ('AzureML-responsibleai-0.21-ubuntu20.04-py38-cpu', '7'), ('AzureML-responsibleai-0.20-ubuntu20.04-py38-cpu', '9'), ('AzureML-tensorflow-2.5-ubuntu20.04-py38-cuda11-gpu', '27'), ('AzureML-tensorflow-2.6-ubuntu20.04-py38-cuda11-gpu', '26'), ('AzureML-tensorflow-2.7-ubuntu20.04-py38-cuda11-gpu', '26'), ('AzureML-sklearn-1.0-ubuntu20.04-py38-cpu', '36'), ('AzureML-pytorch-1.10-ubuntu18.04-py38-cuda11-gpu', '36'), ('AzureML-pytorch-1.9-ubuntu18.04-py37-cuda11-gpu', '44'), ('AzureML-pytorch-1.8-ubuntu18.04-py37-cuda11-gpu', '43'), ('AzureML-sklearn-0.24-ubuntu18.04-py37-cpu', '47'), ('AzureML-lightgbm-3.2-ubuntu18.04-py37-cpu', '51'), ('AzureML-pytorch-1.7-ubuntu18.04-py37-cuda11-gpu', '50'), ('AzureML-tensorflow-2.4-ubuntu18.04-py37-cuda11-gpu', '51'), ('AzureML-Triton', '23'), ('AzureML-Designer-Score', '12'), ('AzureML-VowpalWabbit-8.8.0', '40'), ('AzureML-PyTorch-1.3-CPU', '40')]\n",
      "('urifile_diabetes_data_asset', '1')\n",
      "   Pregnancies  Glucose  BloodPressure  SkinThickness  Insulin   BMI  \\\n",
      "0            6      148             72             35        0  33.6   \n",
      "1            1       85             66             29        0  26.6   \n",
      "\n",
      "   DiabetesPedigreeFunction  Age  Outcome  \n",
      "0                     0.627   50        1  \n",
      "1                     0.351   31        0  \n"
     ]
    }
   ],
   "source": [
    "from azure.ai.ml import command\n",
    "from azure.ai.ml.sweep import Choice\n",
    "\n",
    "# getting the environment\n",
    "envs = ml_client.environments.list()\n",
    "print([(env.name, env.latest_version) for env in envs])\n",
    "diabetes_env = ml_client.environments.get(name='diabetes-env', version=1)\n",
    "\n",
    "# test reading the data asset\n",
    "data_asset_tuple = [(asset.name, asset.latest_version) for asset in ml_client.data.list() if asset.name == URIFILE_DATA_ASSET_NAME][0]\n",
    "print(data_asset_tuple)\n",
    "data_asset = ml_client.data.get(name=data_asset_tuple[0], version=data_asset_tuple[1])\n",
    "df = pd.read_csv(data_asset.path)\n",
    "print(df.head(2))\n",
    "\n",
    "# configure command job as base, just like before\n",
    "job = command(\n",
    "    code=\"./src\",\n",
    "    command=\"python train_mlflow_sweep_acc.py --training_data ${{inputs.training_data}} --reg_rate ${{inputs.reg_rate}}\",\n",
    "\n",
    "    inputs={\n",
    "        \"reg_rate\": 0.01,\n",
    "        \"training_data\": data_asset.path # added this to avoid specifying the path in the command via f-string and {}, causing conflict with the other {{}} in the command\n",
    "    },\n",
    "    environment=diabetes_env,\n",
    "    compute=COMPUTE_CLUSTER,\n",
    "    )\n",
    "\n",
    "# then override your input parameters with your search space\n",
    "# note the consistent param name \"reg_rate\"\n",
    "command_job_for_sweep = job(\n",
    "    reg_rate=Choice(values=[0.01, 0.1, 1]),\n",
    ")\n",
    "\n",
    "# apply the sweep parameter to obtain the sweep_job\n",
    "sweep_job = command_job_for_sweep.sweep(\n",
    "    compute=COMPUTE_CLUSTER,\n",
    "    sampling_algorithm=\"grid\",\n",
    "    primary_metric=\"Accuracy\",\n",
    "    goal=\"Maximize\",\n",
    ")\n",
    "\n",
    "# set the name of the sweep job experiment\n",
    "sweep_job.experiment_name=\"sweep-example\"\n",
    "\n",
    "# define the limits for this sweep\n",
    "sweep_job.set_limits(max_total_trials=4, max_concurrent_trials=2, timeout=7200)"
   ]
  },
  {
   "cell_type": "code",
   "execution_count": 14,
   "metadata": {},
   "outputs": [],
   "source": [
    "# submit the sweep\n",
    "returned_sweep_job = ml_client.create_or_update(sweep_job)"
   ]
  },
  {
   "cell_type": "code",
   "execution_count": 15,
   "metadata": {},
   "outputs": [
    {
     "name": "stdout",
     "output_type": "stream",
     "text": [
      "Monitor your job at https://ml.azure.com/runs/eager_fox_xvcpz9zyg5?wsid=/subscriptions/e5615bfe-b43b-41ce-bccb-b78867c2ce63/resourcegroups/rg-dp100-demo-001/workspaces/mlw-dp100-demo&tid=3c2288b7-c4ac-4ad8-a4f3-32a569108be3\n"
     ]
    }
   ],
   "source": [
    "aml_url = returned_sweep_job.studio_url\n",
    "print(\"Monitor your job at\", aml_url)"
   ]
  },
  {
   "cell_type": "markdown",
   "metadata": {},
   "source": [
    "## VIII. Sweeping with Logging Model to MLflow"
   ]
  },
  {
   "cell_type": "code",
   "execution_count": 7,
   "metadata": {},
   "outputs": [
    {
     "name": "stdout",
     "output_type": "stream",
     "text": [
      "[('diabetes-env', '1'), ('titanic-env', '5'), ('CliV2AnonymousEnvironment', '0'), ('pytorch-env', '1'), ('testenv-conda-002', '1'), ('testenv-conda', '1'), ('testenv', '1'), ('AzureML-AI-Studio-Development', '1'), ('AzureML-ACPT-pytorch-1.13-py38-cuda11.7-gpu', '10'), ('AzureML-ACPT-pytorch-1.12-py38-cuda11.6-gpu', '14'), ('AzureML-ACPT-pytorch-1.12-py39-cuda11.6-gpu', '14'), ('AzureML-ACPT-pytorch-1.11-py38-cuda11.5-gpu', '14'), ('AzureML-ACPT-pytorch-1.11-py38-cuda11.3-gpu', '17'), ('AzureML-responsibleai-0.21-ubuntu20.04-py38-cpu', '7'), ('AzureML-responsibleai-0.20-ubuntu20.04-py38-cpu', '9'), ('AzureML-tensorflow-2.5-ubuntu20.04-py38-cuda11-gpu', '27'), ('AzureML-tensorflow-2.6-ubuntu20.04-py38-cuda11-gpu', '26'), ('AzureML-tensorflow-2.7-ubuntu20.04-py38-cuda11-gpu', '26'), ('AzureML-sklearn-1.0-ubuntu20.04-py38-cpu', '36'), ('AzureML-pytorch-1.10-ubuntu18.04-py38-cuda11-gpu', '36'), ('AzureML-pytorch-1.9-ubuntu18.04-py37-cuda11-gpu', '44'), ('AzureML-pytorch-1.8-ubuntu18.04-py37-cuda11-gpu', '43'), ('AzureML-sklearn-0.24-ubuntu18.04-py37-cpu', '47'), ('AzureML-lightgbm-3.2-ubuntu18.04-py37-cpu', '51'), ('AzureML-pytorch-1.7-ubuntu18.04-py37-cuda11-gpu', '50'), ('AzureML-tensorflow-2.4-ubuntu18.04-py37-cuda11-gpu', '51'), ('AzureML-Triton', '23'), ('AzureML-Designer-Score', '12'), ('AzureML-VowpalWabbit-8.8.0', '40'), ('AzureML-PyTorch-1.3-CPU', '40')]\n",
      "('urifile_diabetes_data_asset', '1')\n",
      "   Pregnancies  Glucose  BloodPressure  SkinThickness  Insulin   BMI  \\\n",
      "0            6      148             72             35        0  33.6   \n",
      "1            1       85             66             29        0  26.6   \n",
      "\n",
      "   DiabetesPedigreeFunction  Age  Outcome  \n",
      "0                     0.627   50        1  \n",
      "1                     0.351   31        0  \n"
     ]
    }
   ],
   "source": [
    "# getting the environment\n",
    "envs = ml_client.environments.list()\n",
    "print([(env.name, env.latest_version) for env in envs])\n",
    "diabetes_env = ml_client.environments.get(name='diabetes-env', version=1)\n",
    "\n",
    "# test reading the data asset\n",
    "data_asset_tuple = [(asset.name, asset.latest_version) for asset in ml_client.data.list() if asset.name == URIFILE_DATA_ASSET_NAME][0]\n",
    "print(data_asset_tuple)\n",
    "data_asset = ml_client.data.get(name=data_asset_tuple[0], version=data_asset_tuple[1])\n",
    "df = pd.read_csv(data_asset.path)\n",
    "print(df.head(2))\n",
    "\n",
    "diabetes_env = ml_client.environments.get(name='diabetes-env', version=1)\n"
   ]
  },
  {
   "cell_type": "code",
   "execution_count": 8,
   "metadata": {},
   "outputs": [
    {
     "name": "stderr",
     "output_type": "stream",
     "text": [
      "\u001b[32mUploading src (0.01 MBs): 100%|██████████████████████████████████████████████████████████████████████████████████████████████████████████████████████████████████████████████████████████████████████████████████████████████████████████████████████████████████████████████████████████████████████████████████████████████████████████████████████████████████████████████████████████████████████████████████████████████████████████████████████████████████████████████████████████████████████████████████████████████████████████████████████████████████████████████████████████████████████████████████████████████████████████████████████████████████████████████████████████████████████████████████████████████████████████████████████████████████████████████████████████████████████████████████████████████████████████████████████████████████████████████████████████████████████████████████████████████████████████████████████████████████████████████████████████████| 13021/13021 [00:00<00:00, 188978.51it/s]\u001b[0m\n",
      "\u001b[39m\n",
      "\n"
     ]
    },
    {
     "name": "stdout",
     "output_type": "stream",
     "text": [
      "Monitor your job at https://ml.azure.com/runs/sincere_whale_zrpg2nczf2?wsid=/subscriptions/e5615bfe-b43b-41ce-bccb-b78867c2ce63/resourcegroups/rg-dp100-demo-001/workspaces/mlw-dp100-demo&tid=3c2288b7-c4ac-4ad8-a4f3-32a569108be3\n"
     ]
    }
   ],
   "source": [
    "from azure.ai.ml import command\n",
    "from azure.ai.ml.sweep import Choice\n",
    "\n",
    "# configure command job as base, just like before\n",
    "job = command(\n",
    "    code=\"./src\",\n",
    "    command=\"python train_mlflow_autolog_sweep_acc.py --training_data ${{inputs.training_data}} --reg_rate ${{inputs.reg_rate}}\",\n",
    "\n",
    "    inputs={\n",
    "        \"reg_rate\": 0.01,\n",
    "        \"training_data\": data_asset.path \n",
    "    },\n",
    "    environment=diabetes_env,\n",
    "    compute=COMPUTE_CLUSTER,\n",
    "    )\n",
    "\n",
    "# then override your input parameters with your search space\n",
    "# note the consistent param name \"reg_rate\"\n",
    "command_job_for_sweep = job(\n",
    "    reg_rate=Choice(values=[0.001, 0.01, 0.1, 1, 10]),\n",
    ")\n",
    "\n",
    "# apply the sweep parameter to obtain the sweep_job\n",
    "sweep_job = command_job_for_sweep.sweep(\n",
    "    compute=COMPUTE_CLUSTER,\n",
    "    sampling_algorithm=\"grid\",\n",
    "    primary_metric=\"Accuracy\",\n",
    "    goal=\"Maximize\",\n",
    ")\n",
    "\n",
    "# set the name of the sweep job experiment\n",
    "sweep_job.experiment_name=\"sweep-example-autolog\"\n",
    "\n",
    "# define the limits for this sweep\n",
    "# for this small example when we know the total number of trials from the Choice list, we can set the same number to max_total_trials\n",
    "sweep_job.set_limits(max_total_trials=5, max_concurrent_trials=2, timeout=7200)\n",
    "\n",
    "# submit the sweep\n",
    "returned_sweep_job = ml_client.create_or_update(sweep_job)\n",
    "\n",
    "# get the direct URL to monitor\n",
    "aml_url = returned_sweep_job.studio_url\n",
    "print(\"Monitor your job at\", aml_url)"
   ]
  },
  {
   "cell_type": "markdown",
   "metadata": {},
   "source": [
    "## IX. Model Deployment to Real-Time Endpoint"
   ]
  },
  {
   "cell_type": "markdown",
   "metadata": {},
   "source": [
    "### 1. Creating an Endpoint (managed endpoint)"
   ]
  },
  {
   "cell_type": "code",
   "execution_count": 9,
   "metadata": {},
   "outputs": [
    {
     "data": {
      "text/plain": [
       "ManagedOnlineEndpoint({'public_network_access': 'Enabled', 'provisioning_state': 'Succeeded', 'scoring_uri': 'https://endpoint-diabetes-prediction.japaneast.inference.ml.azure.com/score', 'openapi_uri': 'https://endpoint-diabetes-prediction.japaneast.inference.ml.azure.com/swagger.json', 'name': 'endpoint-diabetes-prediction', 'description': 'Managed online endpoint for diabetes prediction.', 'tags': {}, 'properties': {'azureml.onlineendpointid': '/subscriptions/e5615bfe-b43b-41ce-bccb-b78867c2ce63/resourcegroups/rg-dp100-demo-001/providers/microsoft.machinelearningservices/workspaces/mlw-dp100-demo/onlineendpoints/endpoint-diabetes-prediction', 'AzureAsyncOperationUri': 'https://management.azure.com/subscriptions/e5615bfe-b43b-41ce-bccb-b78867c2ce63/providers/Microsoft.MachineLearningServices/locations/japaneast/mfeOperationsStatus/oe:af3d7f07-5db5-4a8b-8152-658095ccbf88:0b203e32-ce46-476a-98e8-b5a60ea58654?api-version=2022-02-01-preview'}, 'print_as_yaml': True, 'id': '/subscriptions/e5615bfe-b43b-41ce-bccb-b78867c2ce63/resourceGroups/rg-dp100-demo-001/providers/Microsoft.MachineLearningServices/workspaces/mlw-dp100-demo/onlineEndpoints/endpoint-diabetes-prediction', 'Resource__source_path': None, 'base_path': '/mnt/batch/tasks/shared/LS_root/mounts/clusters/vm-ml-dev/code/Users/phuonglevu3112/AzureDevOps/dp-100/diabetes', 'creation_context': None, 'serialize': <msrest.serialization.Serializer object at 0x7f2645188b90>, 'auth_mode': 'key', 'location': 'japaneast', 'identity': <azure.ai.ml.entities._credentials.IdentityConfiguration object at 0x7f26451a8750>, 'traffic': {}, 'mirror_traffic': {}, 'kind': 'Managed'})"
      ]
     },
     "execution_count": 9,
     "metadata": {},
     "output_type": "execute_result"
    }
   ],
   "source": [
    "from azure.ai.ml.entities import ManagedOnlineEndpoint\n",
    "\n",
    "# create an online endpoint\n",
    "endpoint = ManagedOnlineEndpoint(\n",
    "    name=\"endpoint-diabetes-prediction\",\n",
    "    description=\"Managed online endpoint for diabetes prediction.\",\n",
    "    auth_mode=\"key\",\n",
    ")\n",
    "\n",
    "ml_client.begin_create_or_update(endpoint).result()"
   ]
  },
  {
   "cell_type": "markdown",
   "metadata": {},
   "source": [
    "### 2. Deploy Saved MLFlow Model from Local Path"
   ]
  },
  {
   "cell_type": "markdown",
   "metadata": {},
   "source": [
    "Source of the model: <br>\n",
    "`Jobs/sweep-example-autolog/sincere_whale_zrpg2nczf2/sincere_whale_zrpg2nczf2_3`"
   ]
  },
  {
   "cell_type": "code",
   "execution_count": 13,
   "metadata": {},
   "outputs": [
    {
     "name": "stderr",
     "output_type": "stream",
     "text": [
      "Instance type Standard_DS2_v2 may be too small for compute resources. Minimum recommended compute SKU is Standard_DS3_v2 for general purpose endpoints. Learn more about SKUs here: https://learn.microsoft.com/en-us/azure/machine-learning/referencemanaged-online-endpoints-vm-sku-list\n",
      "Check: endpoint endpoint-diabetes-prediction exists\n"
     ]
    },
    {
     "name": "stdout",
     "output_type": "stream",
     "text": [
      ".................................................................................................."
     ]
    },
    {
     "data": {
      "text/plain": [
       "ManagedOnlineDeployment({'private_network_connection': None, 'package_model': False, 'provisioning_state': 'Succeeded', 'endpoint_name': 'endpoint-diabetes-prediction', 'type': 'Managed', 'name': 'blue', 'description': None, 'tags': {}, 'properties': {'AzureAsyncOperationUri': 'https://management.azure.com/subscriptions/e5615bfe-b43b-41ce-bccb-b78867c2ce63/providers/Microsoft.MachineLearningServices/locations/japaneast/mfeOperationsStatus/od:af3d7f07-5db5-4a8b-8152-658095ccbf88:bc709a26-271e-472a-87d6-6847d00e083d?api-version=2023-04-01-preview'}, 'print_as_yaml': True, 'id': '/subscriptions/e5615bfe-b43b-41ce-bccb-b78867c2ce63/resourceGroups/rg-dp100-demo-001/providers/Microsoft.MachineLearningServices/workspaces/mlw-dp100-demo/onlineEndpoints/endpoint-diabetes-prediction/deployments/blue', 'Resource__source_path': None, 'base_path': '/mnt/batch/tasks/shared/LS_root/mounts/clusters/vm-ml-dev/code/Users/phuonglevu3112/AzureDevOps/dp-100/diabetes', 'creation_context': None, 'serialize': <msrest.serialization.Serializer object at 0x7f264454ced0>, 'model': '/subscriptions/e5615bfe-b43b-41ce-bccb-b78867c2ce63/resourceGroups/rg-dp100-demo-001/providers/Microsoft.MachineLearningServices/workspaces/mlw-dp100-demo/models/81aed28ed9cf63bc3b76097b1147e5ec/versions/1', 'code_configuration': None, 'environment': None, 'environment_variables': {}, 'app_insights_enabled': False, 'scale_settings': <azure.ai.ml.entities._deployment.scale_settings.DefaultScaleSettings object at 0x7f264451ab90>, 'request_settings': <azure.ai.ml.entities._deployment.deployment_settings.OnlineRequestSettings object at 0x7f2644539650>, 'liveness_probe': <azure.ai.ml.entities._deployment.deployment_settings.ProbeSettings object at 0x7f265e4f7150>, 'readiness_probe': <azure.ai.ml.entities._deployment.deployment_settings.ProbeSettings object at 0x7f264453b3d0>, 'instance_count': 1, 'arm_type': 'online_deployment', 'model_mount_path': None, 'instance_type': 'Standard_DS2_v2', 'data_collector': None, 'egress_public_network_access': 'Enabled'})"
      ]
     },
     "execution_count": 13,
     "metadata": {},
     "output_type": "execute_result"
    }
   ],
   "source": [
    "from azure.ai.ml.entities import Model, ManagedOnlineDeployment\n",
    "from azure.ai.ml.constants import AssetTypes\n",
    "\n",
    "# create a blue deployment\n",
    "model = Model(\n",
    "    path=\"./models/diabetes_classification_model_2\",\n",
    "    type=AssetTypes.MLFLOW_MODEL,\n",
    "    description=\"Sample model registered from local path.\",\n",
    ")\n",
    "\n",
    "blue_deployment = ManagedOnlineDeployment(\n",
    "    name=\"blue\",\n",
    "    endpoint_name=\"endpoint-diabetes-prediction\",\n",
    "    model=model,\n",
    "    instance_type=\"Standard_DS2_v2\",\n",
    "    instance_count=1,\n",
    ")\n",
    "\n",
    "ml_client.online_deployments.begin_create_or_update(blue_deployment).result()"
   ]
  },
  {
   "cell_type": "markdown",
   "metadata": {},
   "source": [
    "### 3. Test the endpoint using key"
   ]
  },
  {
   "cell_type": "code",
   "execution_count": 19,
   "metadata": {},
   "outputs": [
    {
     "name": "stdout",
     "output_type": "stream",
     "text": [
      "b'[1, 0]'\n"
     ]
    }
   ],
   "source": [
    "import urllib.request\n",
    "import json\n",
    "import os\n",
    "import ssl\n",
    "\n",
    "def allowSelfSignedHttps(allowed):\n",
    "    # bypass the server certificate verification on client side\n",
    "    if allowed and not os.environ.get('PYTHONHTTPSVERIFY', '') and getattr(ssl, '_create_unverified_context', None):\n",
    "        ssl._create_default_https_context = ssl._create_unverified_context\n",
    "\n",
    "allowSelfSignedHttps(True) # this line is needed if you use self-signed certificate in your scoring service.\n",
    "\n",
    "# Request data goes here\n",
    "# More information can be found here:\n",
    "# https://docs.microsoft.com/azure/machine-learning/how-to-deploy-advanced-entry-script\n",
    "data =  {\n",
    "  \"input_data\": [[6,148,72,35,0,33.6,0.627,50],\n",
    "                 [1,85,66,29,0,26.6,0.351,31]], # needs a (-1,1) shape array where no.rows can be anything\n",
    "  \"params\": {}\n",
    "}\n",
    "\n",
    "body = str.encode(json.dumps(data))\n",
    "\n",
    "url = 'https://endpoint-diabetes-prediction.japaneast.inference.ml.azure.com/score'\n",
    "api_key = 'uEKUMJuhmY88DyJzWelBGyBgXWYCLphR'\n",
    "if not api_key:\n",
    "    raise Exception(\"A key should be provided to invoke the endpoint\")\n",
    "\n",
    "# The azureml-model-deployment header will force the request to go to a specific deployment.\n",
    "# Remove this header to have the request observe the endpoint traffic rules\n",
    "headers = {'Content-Type':'application/json', 'Authorization':('Bearer '+ api_key), 'azureml-model-deployment': 'blue' }\n",
    "req = urllib.request.Request(url, body, headers)\n",
    "try:\n",
    "    response = urllib.request.urlopen(req)\n",
    "    result = response.read()\n",
    "    print(result)\n",
    "except urllib.error.HTTPError as error:\n",
    "    print(\"The request failed with status code: \" + str(error.code))\n",
    "    print(error.info())\n",
    "    print(error.read().decode(\"utf8\", 'ignore'))"
   ]
  },
  {
   "cell_type": "code",
   "execution_count": 30,
   "metadata": {},
   "outputs": [],
   "source": [
    "# let's mimic a stream of requests\n",
    "\n",
    "def get_prediction(input_data: list, api_key:str):\n",
    "    data =  {\n",
    "    \"input_data\": input_data,\n",
    "    \"params\": {}\n",
    "    }\n",
    "\n",
    "    body = str.encode(json.dumps(data))\n",
    "    url = 'https://endpoint-diabetes-prediction.japaneast.inference.ml.azure.com/score'\n",
    "    if not api_key:\n",
    "        raise Exception(\"A key should be provided to invoke the endpoint\")\n",
    "\n",
    "    headers = {'Content-Type':'application/json', 'Authorization':('Bearer '+ api_key), 'azureml-model-deployment': 'blue' }\n",
    "    req = urllib.request.Request(url, body, headers)\n",
    "    try:\n",
    "        response = urllib.request.urlopen(req)\n",
    "        result = response.read()\n",
    "        return result\n",
    "    except urllib.error.HTTPError as error:\n",
    "        print(\"The request failed with status code: \" + str(error.code))\n",
    "        print(error.info())\n",
    "        print(error.read().decode(\"utf8\", 'ignore'))"
   ]
  },
  {
   "cell_type": "code",
   "execution_count": 24,
   "metadata": {},
   "outputs": [
    {
     "data": {
      "text/html": [
       "<div>\n",
       "<style scoped>\n",
       "    .dataframe tbody tr th:only-of-type {\n",
       "        vertical-align: middle;\n",
       "    }\n",
       "\n",
       "    .dataframe tbody tr th {\n",
       "        vertical-align: top;\n",
       "    }\n",
       "\n",
       "    .dataframe thead th {\n",
       "        text-align: right;\n",
       "    }\n",
       "</style>\n",
       "<table border=\"1\" class=\"dataframe\">\n",
       "  <thead>\n",
       "    <tr style=\"text-align: right;\">\n",
       "      <th></th>\n",
       "      <th>Pregnancies</th>\n",
       "      <th>Glucose</th>\n",
       "      <th>BloodPressure</th>\n",
       "      <th>SkinThickness</th>\n",
       "      <th>Insulin</th>\n",
       "      <th>BMI</th>\n",
       "      <th>DiabetesPedigreeFunction</th>\n",
       "      <th>Age</th>\n",
       "    </tr>\n",
       "  </thead>\n",
       "  <tbody>\n",
       "    <tr>\n",
       "      <th>0</th>\n",
       "      <td>6</td>\n",
       "      <td>148</td>\n",
       "      <td>72</td>\n",
       "      <td>35</td>\n",
       "      <td>0</td>\n",
       "      <td>33.6</td>\n",
       "      <td>0.627</td>\n",
       "      <td>50</td>\n",
       "    </tr>\n",
       "    <tr>\n",
       "      <th>2</th>\n",
       "      <td>8</td>\n",
       "      <td>183</td>\n",
       "      <td>64</td>\n",
       "      <td>0</td>\n",
       "      <td>0</td>\n",
       "      <td>23.3</td>\n",
       "      <td>0.672</td>\n",
       "      <td>32</td>\n",
       "    </tr>\n",
       "  </tbody>\n",
       "</table>\n",
       "</div>"
      ],
      "text/plain": [
       "   Pregnancies  Glucose  BloodPressure  SkinThickness  Insulin   BMI  \\\n",
       "0            6      148             72             35        0  33.6   \n",
       "2            8      183             64              0        0  23.3   \n",
       "\n",
       "   DiabetesPedigreeFunction  Age  \n",
       "0                     0.627   50  \n",
       "2                     0.672   32  "
      ]
     },
     "execution_count": 24,
     "metadata": {},
     "output_type": "execute_result"
    }
   ],
   "source": [
    "df = pd.read_csv('./data/diabetes.csv')\n",
    "df = df.drop(columns=['Outcome'], index=1)\n",
    "df.head(2)"
   ]
  },
  {
   "cell_type": "code",
   "execution_count": 38,
   "metadata": {},
   "outputs": [
    {
     "name": "stdout",
     "output_type": "stream",
     "text": [
      "Iteration: 1\n",
      "b'[0, 0, 1, 0, 0, 0, 0]'\n",
      "Iteration: 2\n",
      "b'[0]'\n",
      "Iteration: 3\n",
      "b'[0, 0, 0, 0]'\n",
      "Iteration: 4\n",
      "b'[0, 0, 0]'\n",
      "Iteration: 5\n",
      "b'[0, 0]'\n"
     ]
    }
   ],
   "source": [
    "from random import randint\n",
    "from time import sleep\n",
    "\n",
    "API_KEY = 'uEKUMJuhmY88DyJzWelBGyBgXWYCLphR'\n",
    "for i in range(5):\n",
    "    sample_data = df.sample(randint(1,10)).values.tolist()\n",
    "    print(f\"Iteration: {i+1}\")\n",
    "    output = get_prediction(sample_data, API_KEY)\n",
    "    print(output)\n",
    "    sleep(randint(1,10))\n"
   ]
  }
 ],
 "metadata": {
  "kernelspec": {
   "display_name": "venv",
   "language": "python",
   "name": "python3"
  },
  "language_info": {
   "codemirror_mode": {
    "name": "ipython",
    "version": 3
   },
   "file_extension": ".py",
   "mimetype": "text/x-python",
   "name": "python",
   "nbconvert_exporter": "python",
   "pygments_lexer": "ipython3",
   "version": "3.11.7"
  }
 },
 "nbformat": 4,
 "nbformat_minor": 2
}
